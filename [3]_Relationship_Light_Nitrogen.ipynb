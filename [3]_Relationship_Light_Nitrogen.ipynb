{
 "cells": [
  {
   "cell_type": "markdown",
   "metadata": {},
   "source": [
    "# Nitrogen and Light uptake relationship"
   ]
  },
  {
   "cell_type": "markdown",
   "metadata": {},
   "source": [
    "## Imports"
   ]
  },
  {
   "cell_type": "code",
   "execution_count": 1,
   "metadata": {
    "pycharm": {
     "name": "#%%\n"
    }
   },
   "outputs": [],
   "source": [
    "from cobra.io import read_sbml_model\n",
    "from cobra import flux_analysis\n",
    "import pandas as pd\n",
    "import seaborn as sns\n",
    "import matplotlib.pyplot as plt"
   ]
  },
  {
   "cell_type": "markdown",
   "metadata": {},
   "source": [
    "## Reading the Models"
   ]
  },
  {
   "cell_type": "code",
   "execution_count": 2,
   "metadata": {},
   "outputs": [],
   "source": [
    "\"\"\"\n",
    "Read and prepare c3 model\n",
    "\"\"\"\n",
    "\n",
    "c3_model = read_sbml_model(\"c3_model.xml\")\n",
    "\n",
    "c3_model.solver = \"glpk\"\n",
    "\n",
    "c3_model.objective = \"Arabidopsis_biomass_tx\"\n",
    "\n",
    "#Setting up Rubisco carboxylase/oxygenase ratio in C3 model\n",
    "Rubisco_carboxylase = c3_model.reactions.get_by_id(\"RIBULOSE_BISPHOSPHATE_CARBOXYLASE_RXN_p\")\n",
    "Rubisco_oxygenase = c3_model.reactions.get_by_id(\"RXN_961_p\")\n",
    "const = c3_model.problem.Constraint(3 * Rubisco_oxygenase.flux_expression - Rubisco_carboxylase.flux_expression , lb = 0, ub = 0)\n",
    "c3_model.add_cons_vars(const)\n",
    "\n",
    "\n",
    "#Setting up Light dependent maintenace in the C3 model\n",
    "def c3_maintenance(c3_model):\n",
    "    c3_model.reactions.ATPase_tx.flux_expression\n",
    "    c3_model.reactions.Photon_tx.flux_expression\n",
    "\n",
    "    const = c3_model.problem.Constraint((0.0049 * c3_model.reactions.Photon_tx.flux_expression + 2.7852) - c3_model.reactions.ATPase_tx.flux_expression , lb = 0, ub = 0)\n",
    "    c3_model.add_cons_vars(const)\n",
    "\n",
    "    const = c3_model.problem.Constraint(c3_model.reactions.ATPase_tx.flux_expression - 3 *(c3_model.reactions.NADPHoxc_tx.flux_expression + c3_model.reactions.NADPHoxp_tx.flux_expression + c3_model.reactions.NADPHoxm_tx.flux_expression) , lb = 0, ub = 0)\n",
    "    c3_model.add_cons_vars(const)\n",
    "\n",
    "c3_maintenance(c3_model)"
   ]
  },
  {
   "cell_type": "code",
   "execution_count": 3,
   "metadata": {
    "pycharm": {
     "name": "#%%\n"
    }
   },
   "outputs": [
    {
     "name": "stderr",
     "output_type": "stream",
     "text": [
      "No objective coefficients in model. Unclear what should be optimized\n"
     ]
    }
   ],
   "source": [
    "\"\"\"\n",
    "Read and prepare C4 model\n",
    "\"\"\"\n",
    "\n",
    "c4_model = read_sbml_model(\"c4_model.xml\")\n",
    "\n",
    "c4_model.solver = \"glpk\"\n",
    "\n",
    "c4_model.objective = '[B]_Maize_biomass_tx'\n",
    "\n",
    "\n",
    "def c4_maintenance(c4_model):\n",
    "    #Constrains for light dependent maintenance costs\n",
    "    atp_b = c4_model.reactions.get_by_id(\"[B]_ATPase_tx\")\n",
    "    photon_b = c4_model.reactions.get_by_id(\"[B]_Photon_tx\")\n",
    "    atp_m = c4_model.reactions.get_by_id(\"[M]_ATPase_tx\")\n",
    "    photon_m = c4_model.reactions.get_by_id(\"[M]_Photon_tx\")\n",
    "\n",
    "    const_b = c4_model.problem.Constraint((0.0049 * photon_b.flux_expression + 2.7852) - atp_b.flux_expression , lb = 0, ub = 0)\n",
    "    c4_model.add_cons_vars(const_b)\n",
    "\n",
    "    const_m = c4_model.problem.Constraint((0.0049 * photon_m.flux_expression + 2.7852) - atp_m.flux_expression , lb = 0, ub = 0)\n",
    "    c4_model.add_cons_vars(const_m)\n",
    "    # ATP/NADPH 3:1 constraints\n",
    "    const = c4_model.problem.Constraint(c4_model.reactions.get_by_id(\"[B]_ATPase_tx\").flux_expression -  3 * (c4_model.reactions.get_by_id(\"[B]_NADPHoxc_tx\").flux_expression + c4_model.reactions.get_by_id(\"[B]_NADPHoxp_tx\").flux_expression + c4_model.reactions.get_by_id(\"[B]_NADPHoxm_tx\").flux_expression) , lb = 0, ub = 0)\n",
    "    c4_model.add_cons_vars(const)\n",
    "\n",
    "    const = c4_model.problem.Constraint(c4_model.reactions.get_by_id(\"[M]_ATPase_tx\").flux_expression -  3 * (c4_model.reactions.get_by_id(\"[M]_NADPHoxc_tx\").flux_expression + c4_model.reactions.get_by_id(\"[M]_NADPHoxp_tx\").flux_expression + c4_model.reactions.get_by_id(\"[M]_NADPHoxm_tx\").flux_expression) , lb = 0, ub = 0)\n",
    "    c4_model.add_cons_vars(const)\n",
    "\n",
    "#Add Light dependent maintenance\n",
    "c4_maintenance(c4_model)"
   ]
  },
  {
   "cell_type": "markdown",
   "metadata": {},
   "source": [
    "## Performing pFBA"
   ]
  },
  {
   "cell_type": "code",
   "execution_count": 4,
   "metadata": {
    "pycharm": {
     "name": "#%%\n"
    }
   },
   "outputs": [],
   "source": [
    "\"\"\"\n",
    "Functions to perform the simulation:\n",
    "For every given light uptake, we want to extract the nitrogen uptake flux valueas\n",
    "\"\"\"\n",
    "\n",
    "\n",
    "\n",
    "def c3_simulation(light, N, c3_model):\n",
    "    with c3_model:\n",
    "        c3_model.reactions.Photon_tx.lower_bound = 0\n",
    "        c3_model.reactions.Photon_tx.upper_bound = light\n",
    "        #Bounds for Nitrogen\n",
    "        c3_model.reactions.Nitrate_tx.lower_bound = 0\n",
    "        c3_model.reactions.Nitrate_tx.upper_bound = N\n",
    "        #pFBA\n",
    "        solution = flux_analysis.pfba(c3_model)\n",
    "        solution_frame=solution.to_frame()\n",
    "        nitrogen_uptake = solution_frame.loc[\"Nitrate_tx\"][\"fluxes\"]\n",
    "        return nitrogen_uptake\n",
    "\n",
    "def c4_simulation(light, N, c4_model):\n",
    "    ##C4\n",
    "    with c4_model:\n",
    "        #Light Uptale constrain\n",
    "        B_Im_hnu = c4_model.reactions.get_by_id(\"[B]_Photon_tx\")\n",
    "        M_Im_hnu = c4_model.reactions.get_by_id(\"[M]_Photon_tx\")\n",
    "        #CONSTRAINT: Total Photon uptake limited to \"light\" µE\n",
    "        const_hnu_sum = c4_model.problem.Constraint( B_Im_hnu.flux_expression + M_Im_hnu.flux_expression,\n",
    "                                                lb = 0, ub = light)\n",
    "        c4_model.add_cons_vars(const_hnu_sum)\n",
    "        #CONSTRAINT: Total Photon uptake by bundle sheath must be less or equal than in mesophyll\n",
    "        const_hnu_ratio = c4_model.problem.Constraint( M_Im_hnu.flux_expression - B_Im_hnu.flux_expression,\n",
    "                                                lb = 0, ub = light)\n",
    "        c4_model.add_cons_vars(const_hnu_ratio)\n",
    "        #CONSTRAINT : Total N uptake must not surpass defined upper bound\n",
    "        m_n = c4_model.reactions.get_by_id(\"[B]_Nitrate_tx\")\n",
    "        bs_n = c4_model.reactions.get_by_id(\"[M]_Nitrate_tx\")\n",
    "        const_n_ratio = c4_model.problem.Constraint( bs_n.flux_expression + m_n.flux_expression,\n",
    "                                               lb = 0, ub = N)\n",
    "        c4_model.add_cons_vars(const_n_ratio)\n",
    "        #pFBA\n",
    "        solution = flux_analysis.pfba(c4_model)\n",
    "        solution_frame=solution.to_frame()\n",
    "        nitrogen_uptake = solution_frame.loc[\"[B]_Nitrate_tx\"][\"fluxes\"] + solution_frame.loc[\"[M]_Nitrate_tx\"][\"fluxes\"]\n",
    "        return nitrogen_uptake"
   ]
  },
  {
   "cell_type": "markdown",
   "metadata": {},
   "source": [
    "### Obtaining the lists with the light and nitrogen uptake flux values"
   ]
  },
  {
   "cell_type": "code",
   "execution_count": 5,
   "metadata": {
    "pycharm": {
     "name": "#%%\n"
    }
   },
   "outputs": [
    {
     "name": "stdout",
     "output_type": "stream",
     "text": [
      "[50, 100, 150, 200, 250, 300, 350, 400, 450, 500, 550, 600, 650, 700, 750, 800, 850, 900, 950, 1000, 1050, 1100, 1150, 1200, 1250, 1300, 1350, 1400, 1450, 1500, 1550, 1600]\n",
      "[0.5030322278816073, 1.0650421459213952, 1.6270520639613313, 2.189061982001202, 2.751071900041086, 3.3130818180809665, 3.8750917361208552, 4.437101654160714, 4.99911157220059, 5.561121490240462, 6.123131408280335, 6.685141326320201, 7.2471512443600705, 7.809161162400056, 8.37117108043966, 8.93318099847989, 9.49519091651982, 10.057200834559419, 10.619210752599598, 11.18122067063916, 11.743230588679353, 12.305240506719116, 12.867250424759403, 13.429260342799203, 13.991270260839023, 14.55328017887853, 15.115290096918418, 15.677300014958231, 16.239309932998097, 16.801319851038055, 17.363329769077946, 17.925339687117816]\n",
      "[0.2298261431727415, 0.51826412018872, 0.8067020972046887, 1.0951400742205772, 1.3835780512366291, 1.672016028252505, 1.9604540052686814, 2.248891982284537, 2.5373299593003185, 2.825767936316318, 3.1142059133323388, 3.4026438903484224, 3.6910818673644092, 3.979519844379842, 4.267957821396282, 4.55639579841214, 4.8448337754280075, 5.133271752444049, 5.421709729460077, 5.710147706475831, 5.998585683492214, 6.287023660507954, 6.575461637524093, 6.863899614540202, 7.152337591555906, 7.440775568571889, 7.729213545587922, 8.017651522603309, 8.306089499619597, 8.594527476635822, 8.882965453651671, 9.171403430667448]\n"
     ]
    }
   ],
   "source": [
    "\"\"\"\n",
    "The chosen light uptake constrain range was from 50 to 1650 in 50 increments.\n",
    "Nitrogen uptake was left unconstrained.\n",
    "\"\"\"\n",
    "L_up = []\n",
    "N_C3_up = []\n",
    "N_C4_up = []\n",
    "\n",
    "\n",
    "for light in range(50, 1650, 50):\n",
    "    L_up.append(light)\n",
    "    N_C3_up.append(c3_simulation(light, 9999, c3_model))\n",
    "    N_C4_up.append(c4_simulation(light, 9999, c4_model))\n",
    "\n",
    "print(L_up)\n",
    "print(N_C3_up)\n",
    "print(N_C4_up)\n"
   ]
  },
  {
   "cell_type": "markdown",
   "metadata": {},
   "source": [
    "## Results Scatterplot"
   ]
  },
  {
   "cell_type": "code",
   "execution_count": 6,
   "metadata": {
    "pycharm": {
     "name": "#%%\n"
    }
   },
   "outputs": [
    {
     "data": {
      "image/png": "[encoded data removed]",
      "text/plain": [
       "<Figure size 432x288 with 1 Axes>"
      ]
     },
     "metadata": {
      "needs_background": "light"
     },
     "output_type": "display_data"
    }
   ],
   "source": [
    "df_c3 = pd.DataFrame(list(zip(L_up, N_C3_up)), columns=[\"Light\", \"N\"])\n",
    "df_c4 = pd.DataFrame(list(zip(L_up, N_C4_up)), columns=[\"Light\",\"N\"])\n",
    "\n",
    "concatenated = pd.concat([df_c4.assign(Models ='Maize C4'), df_c3.assign(Models ='Arabidopsis C3')])\n",
    "\n",
    "sns.scatterplot(x='Light', y='N', data=concatenated, hue=\"Models\", style='Models')\n",
    "plt.title(\"Analysis of N/Light uptake relashionship\")\n",
    "plt.xlabel('Light Uptake')\n",
    "plt.ylabel('Nitrogen Uptake')\n",
    "#plt.savefig('nitrogen_relation.jpeg', format='jpeg', bbox_inches = 'tight')\n",
    "plt.show()"
   ]
  },
  {
   "cell_type": "markdown",
   "metadata": {},
   "source": [
    "From analysis of this results, we can conclude that light and nitrogen uptake have a linear relationship in both the C3 and C4 models. Furthermore, we observe a steeper curve in the C3 relationship than in the C4 model. This can be explained with the biomass composition values. The Arabidopsis biomass has a higher amount of aminoacids than the Maize Biomass, and, subsequently, higher nitrogen requirements for the same light inputs than the Maize biomass."
   ]
  },
  {
   "cell_type": "code",
   "execution_count": null,
   "metadata": {},
   "outputs": [],
   "source": []
  }
 ],
 "metadata": {
  "kernelspec": {
   "display_name": "Python 3",
   "language": "python",
   "name": "python3"
  },
  "language_info": {
   "codemirror_mode": {
    "name": "ipython",
    "version": 3
   },
   "file_extension": ".py",
   "mimetype": "text/x-python",
   "name": "python",
   "nbconvert_exporter": "python",
   "pygments_lexer": "ipython3",
   "version": "3.7.9"
  }
 },
 "nbformat": 4,
 "nbformat_minor": 1
}
