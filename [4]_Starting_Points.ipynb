{
 "cells": [
  {
   "cell_type": "markdown",
   "metadata": {},
   "source": [
    "# Starting Points"
   ]
  },
  {
   "cell_type": "markdown",
   "metadata": {},
   "source": [
    "## Imports"
   ]
  },
  {
   "cell_type": "code",
   "execution_count": 1,
   "metadata": {},
   "outputs": [],
   "source": [
    "import pandas as pd\n",
    "from cobra import flux_analysis\n",
    "from cobra.io import read_sbml_model, write_sbml_model\n",
    "from model_functions import *\n",
    "import seaborn as sns\n",
    "import matplotlib.pyplot as plt\n",
    "import math"
   ]
  },
  {
   "cell_type": "markdown",
   "metadata": {},
   "source": [
    "## Reading the Models"
   ]
  },
  {
   "cell_type": "code",
   "execution_count": 2,
   "metadata": {
    "pycharm": {
     "name": "#%%\n"
    }
   },
   "outputs": [],
   "source": [
    "\"\"\"\n",
    "Read and prepare c3 model\n",
    "\"\"\"\n",
    "\n",
    "c3_model = read_sbml_model(\"c3_model.xml\")\n",
    "\n",
    "c3_model.solver = \"glpk\"\n",
    "\n",
    "c3_model.objective = \"Arabidopsis_biomass_tx\"\n",
    "\n",
    "#Setting up Rubisco carboxylase/oxygenase ratio in C3 model\n",
    "set_fixed_flux_ratio({'RIBULOSE_BISPHOSPHATE_CARBOXYLASE_RXN_p':3,'RXN_961_p':1},c3_model)\n",
    "\n",
    "#Setting up Light dependent maintenace in the C3 model\n",
    "def c3_maintenance(c3_model):\n",
    "    c3_model.reactions.ATPase_tx.flux_expression\n",
    "    c3_model.reactions.Photon_tx.flux_expression\n",
    "\n",
    "    const = c3_model.problem.Constraint((0.0049 * c3_model.reactions.Photon_tx.flux_expression + 2.7852) - \n",
    "                                        c3_model.reactions.ATPase_tx.flux_expression , lb = 0, ub = 0)\n",
    "    c3_model.add_cons_vars(const)\n",
    "\n",
    "    const = c3_model.problem.Constraint(c3_model.reactions.ATPase_tx.flux_expression - \n",
    "                                        3 *(c3_model.reactions.NADPHoxc_tx.flux_expression + c3_model.reactions.NADPHoxp_tx.flux_expression + \n",
    "                                            c3_model.reactions.NADPHoxm_tx.flux_expression) , lb = 0, ub = 0)\n",
    "    c3_model.add_cons_vars(const)\n",
    "\n",
    "c3_maintenance(c3_model)"
   ]
  },
  {
   "cell_type": "code",
   "execution_count": 3,
   "metadata": {
    "pycharm": {
     "name": "#%%\n"
    }
   },
   "outputs": [
    {
     "name": "stderr",
     "output_type": "stream",
     "text": [
      "No objective coefficients in model. Unclear what should be optimized\n"
     ]
    }
   ],
   "source": [
    "\"\"\"\n",
    "Read and prepare C4 model\n",
    "\"\"\"\n",
    "\n",
    "c4_model = read_sbml_model(\"c4_model.xml\")\n",
    "\n",
    "c4_model.solver = \"glpk\"\n",
    "\n",
    "c4_model.objective = '[B]_Maize_biomass_tx'\n",
    "\n",
    "\n",
    "def c4_maintenance(c4_model):\n",
    "    #Constrains for light dependent maintenance costs\n",
    "    atp_b = c4_model.reactions.get_by_id(\"[B]_ATPase_tx\")\n",
    "    photon_b = c4_model.reactions.get_by_id(\"[B]_Photon_tx\")\n",
    "    atp_m = c4_model.reactions.get_by_id(\"[M]_ATPase_tx\")\n",
    "    photon_m = c4_model.reactions.get_by_id(\"[M]_Photon_tx\")\n",
    "\n",
    "    const_b = c4_model.problem.Constraint((0.0049 * photon_b.flux_expression + 2.7852) - \n",
    "                                          atp_b.flux_expression , lb = 0, ub = 0)\n",
    "    c4_model.add_cons_vars(const_b)\n",
    "\n",
    "    const_m = c4_model.problem.Constraint((0.0049 * photon_m.flux_expression + 2.7852) - atp_m.flux_expression , lb = 0, ub = 0)\n",
    "    c4_model.add_cons_vars(const_m)\n",
    "    # ATP/NADPH 3:1 constraints\n",
    "    const = c4_model.problem.Constraint(c4_model.reactions.get_by_id(\"[B]_ATPase_tx\").flux_expression -  \n",
    "                                        3 * (c4_model.reactions.get_by_id(\"[B]_NADPHoxc_tx\").flux_expression + \n",
    "                                             c4_model.reactions.get_by_id(\"[B]_NADPHoxp_tx\").flux_expression + \n",
    "                                             c4_model.reactions.get_by_id(\"[B]_NADPHoxm_tx\").flux_expression) , lb = 0, ub = 0)\n",
    "    c4_model.add_cons_vars(const)\n",
    "\n",
    "    const = c4_model.problem.Constraint(c4_model.reactions.get_by_id(\"[M]_ATPase_tx\").flux_expression - \n",
    "                                        3 * (c4_model.reactions.get_by_id(\"[M]_NADPHoxc_tx\").flux_expression + \n",
    "                                             c4_model.reactions.get_by_id(\"[M]_NADPHoxp_tx\").flux_expression + \n",
    "                                             c4_model.reactions.get_by_id(\"[M]_NADPHoxm_tx\").flux_expression) , lb = 0, ub = 0)\n",
    "    c4_model.add_cons_vars(const)\n",
    "\n",
    "#Add Light dependent maintenance\n",
    "c4_maintenance(c4_model)"
   ]
  },
  {
   "cell_type": "markdown",
   "metadata": {},
   "source": [
    "## Simulating with pFBA\n",
    "\n",
    "In this analysis the functions below will receive a light and nitrogen flux values. It will then set this values as the upper bounds of the corresponding uptake reactions, while leaving the lower bounds at zero. Finaly, it will perform a pFBA with these constrains and extract the sum of fluxes and growth (biomass reaction flux value). As a result, the models are free to uptake as much flux as possible of either light or nitrogen, and in every scenario the maximum uptake of one will restrain the uptake of the other a.k.a one will be a limiting factor. This relationship can be observed in the plots below."
   ]
  },
  {
   "cell_type": "markdown",
   "metadata": {},
   "source": [
    "### Starting points\n",
    "\n",
    "Through analysis of ther literature, **9 starting points** were defined, corresponding to a range of Light and Nitrogen uptakes who will serve as scenarios in which we will evaluate the model's metabolic plasticity, as constrained by the absolute sum of fluxes and their ability to yield close-to-optimum biomass flux solutions.\n",
    "The stating points correspond to a combination of **3 Light conditions (100, 250, 500)** and **3 Nitrogen conditions (0.2, 2.5, 6)**"
   ]
  },
  {
   "cell_type": "markdown",
   "metadata": {},
   "source": [
    "### Defining Light limiting and Nitrogen Limiting Starting Points"
   ]
  },
  {
   "cell_type": "code",
   "execution_count": 4,
   "metadata": {},
   "outputs": [],
   "source": [
    "\"\"\"\n",
    "Functions to perform the simulations for evaluation of nitrogen or light limiting conditions\n",
    "\"\"\"\n",
    "\n",
    "def c3_simulation(light, N, c3_model):\n",
    "    with c3_model:\n",
    "        c3_model.objective = \"Arabidopsis_biomass_tx\"\n",
    "        #Bounds for light\n",
    "        set_bounds('Photon_tx', (0, light), c3_model)\n",
    "        #Bounds for Nitrogen\n",
    "        set_bounds('Nitrate_tx', (0, N), c3_model)\n",
    "        #pFBA\n",
    "        c3_model.objective = \"Arabidopsis_biomass_tx\"\n",
    "        solution = flux_analysis.pfba(c3_model)\n",
    "        solution_frame=solution.to_frame()\n",
    "        N_uptake = solution_frame.loc[\"Nitrate_tx\"][\"fluxes\"]\n",
    "        Light_uptake = solution_frame.loc[\"Photon_tx\"][\"fluxes\"]\n",
    "        return (Light_uptake, N_uptake)\n",
    "\n",
    "def c4_simulation(light, N, c4_model):\n",
    "    ##C4\n",
    "    with c4_model:\n",
    "        c4_model.objective = '[B]_Maize_biomass_tx'\n",
    "        #Light Uptale constrain\n",
    "        B_Im_hnu = c4_model.reactions.get_by_id(\"[B]_Photon_tx\")\n",
    "        M_Im_hnu = c4_model.reactions.get_by_id(\"[M]_Photon_tx\")\n",
    "        #CONSTRAINT: Total Photon uptake limited to \"light\" µE\n",
    "        const_hnu_sum = c4_model.problem.Constraint( B_Im_hnu.flux_expression + M_Im_hnu.flux_expression,\n",
    "                                                lb = 0, ub = light)\n",
    "        c4_model.add_cons_vars(const_hnu_sum)\n",
    "        #CONSTRAINT: Total Photon uptake by bundle sheath must be less or equal than in mesophyll\n",
    "        const_hnu_ratio = c4_model.problem.Constraint( M_Im_hnu.flux_expression - B_Im_hnu.flux_expression,\n",
    "                                                lb = 0, ub = light)\n",
    "        c4_model.add_cons_vars(const_hnu_ratio)\n",
    "        #CONSTRAINT : Total N uptake must not surpass defined upper bound\n",
    "        bs_n = c4_model.reactions.get_by_id(\"[B]_Nitrate_tx\")\n",
    "        m_n = c4_model.reactions.get_by_id(\"[M]_Nitrate_tx\")\n",
    "        const_n_ratio = c4_model.problem.Constraint( bs_n.flux_expression + m_n.flux_expression,\n",
    "                                               lb = 0, ub = N)\n",
    "        c4_model.add_cons_vars(const_n_ratio)\n",
    "        #pFBA\n",
    "        solution = flux_analysis.pfba(c4_model)\n",
    "        solution_frame=solution.to_frame()\n",
    "        N_uptake = solution_frame.loc[\"[B]_Nitrate_tx\"][\"fluxes\"] + solution_frame.loc[\"[M]_Nitrate_tx\"][\"fluxes\"]\n",
    "        Light_uptake = solution_frame.loc[\"[B]_Photon_tx\"][\"fluxes\"] + solution_frame.loc[\"[M]_Photon_tx\"][\"fluxes\"]\n",
    "        return (Light_uptake, N_uptake)"
   ]
  },
  {
   "cell_type": "code",
   "execution_count": 5,
   "metadata": {},
   "outputs": [],
   "source": [
    "\"\"\"\n",
    "Build Dictionary with the combination of Light/Nitrogen conditions as keys and nitrogen and light effective uptake as values\n",
    "\"\"\"\n",
    "\n",
    "#Grid of light and Nitrogen conditions to use\n",
    "light_uptake = [100, 250, 500]\n",
    "nitrogen_uptake = [0.2, 2.5, 6]\n",
    "\n",
    "#Dictionaries to hold the results\n",
    "res_c3 = {}\n",
    "res_c4 = {}\n",
    "\n",
    "#Perform the simulations for diferent combinations of Light/N and store them in the dictionary\n",
    "for l in light_uptake:\n",
    "    for n in nitrogen_uptake:\n",
    "        res_c3[(l,n)] = c3_simulation(l,n,c3_model)\n",
    "        res_c4[(l,n)] = c4_simulation(l,n,c4_model)\n"
   ]
  },
  {
   "cell_type": "code",
   "execution_count": 6,
   "metadata": {},
   "outputs": [
    {
     "name": "stdout",
     "output_type": "stream",
     "text": [
      "{(100, 0.2): (23.59906736369348, 0.2000000000000115), (100, 2.5): (100.0, 1.0650421459213952), (100, 6): (100.0, 1.0650421459213952), (250, 0.2): (23.599067363691972, 0.1999999999999946), (250, 2.5): (227.66303654238237, 2.4999999999999627), (250, 6): (249.99999999996513, 2.751071900041086), (500, 0.2): (23.599067363691972, 0.1999999999999946), (500, 2.5): (227.66303654238237, 2.4999999999999627), (500, 6): (499.999999999922, 5.561121490240462)}\n"
     ]
    }
   ],
   "source": [
    "\"\"\"\n",
    "Dictionary with C3 model light and nitrogen effective uptakes for every starting point\n",
    "\"\"\"\n",
    "\n",
    "print(res_c3)"
   ]
  },
  {
   "cell_type": "code",
   "execution_count": 7,
   "metadata": {},
   "outputs": [
    {
     "name": "stdout",
     "output_type": "stream",
     "text": [
      "{(100, 0.2): (45.080637691816, 0.20000000000000123), (100, 2.5): (100.0, 0.51826412018872), (100, 6): (100.0, 0.51826412018872), (250, 0.2): (45.08063769181526, 0.1999999999999958), (250, 2.5): (250.0, 1.3835780512366291), (250, 6): (250.0, 1.3835780512366291), (500, 0.2): (45.08063769181526, 0.1999999999999958), (500, 2.5): (448.535180267036, 2.4999999999998535), (500, 6): (500.0, 2.825767936316318)}\n"
     ]
    }
   ],
   "source": [
    "\"\"\"\n",
    "Dictionary with C4 model light and nitrogen effective uptakes for every starting point\n",
    "\"\"\"\n",
    "print(res_c4)"
   ]
  },
  {
   "cell_type": "code",
   "execution_count": 8,
   "metadata": {},
   "outputs": [],
   "source": [
    "\"\"\"Classification of Starting points\"\"\"\n",
    "\n",
    "def classif(res_classif, res):\n",
    "    for start in res.keys():\n",
    "        if math.isclose(start[0], res[start][0], rel_tol=0.01):\n",
    "            res_classif[start] = \"Light Limiting Condition\"\n",
    "        else:\n",
    "            res_classif[start] = \"Nitrogen Limiting Condition\"\n",
    "            \n",
    "classif_c3 = {}\n",
    "classif_c4 = {}\n",
    "\n",
    "classif(classif_c3, res_c3)\n",
    "classif(classif_c4, res_c4)"
   ]
  },
  {
   "cell_type": "code",
   "execution_count": 9,
   "metadata": {},
   "outputs": [
    {
     "data": {
      "text/html": [
       "<div>\n",
       "<style scoped>\n",
       "    .dataframe tbody tr th:only-of-type {\n",
       "        vertical-align: middle;\n",
       "    }\n",
       "\n",
       "    .dataframe tbody tr th {\n",
       "        vertical-align: top;\n",
       "    }\n",
       "\n",
       "    .dataframe thead th {\n",
       "        text-align: right;\n",
       "    }\n",
       "</style>\n",
       "<table border=\"1\" class=\"dataframe\">\n",
       "  <thead>\n",
       "    <tr style=\"text-align: right;\">\n",
       "      <th></th>\n",
       "      <th>Uptake</th>\n",
       "      <th>Evaluation_c3</th>\n",
       "      <th>Evaluation_c4</th>\n",
       "    </tr>\n",
       "  </thead>\n",
       "  <tbody>\n",
       "    <tr>\n",
       "      <th>0</th>\n",
       "      <td>(100, 0.2)</td>\n",
       "      <td>Nitrogen Limiting Condition</td>\n",
       "      <td>Nitrogen Limiting Condition</td>\n",
       "    </tr>\n",
       "    <tr>\n",
       "      <th>1</th>\n",
       "      <td>(100, 2.5)</td>\n",
       "      <td>Light Limiting Condition</td>\n",
       "      <td>Light Limiting Condition</td>\n",
       "    </tr>\n",
       "    <tr>\n",
       "      <th>2</th>\n",
       "      <td>(100, 6)</td>\n",
       "      <td>Light Limiting Condition</td>\n",
       "      <td>Light Limiting Condition</td>\n",
       "    </tr>\n",
       "    <tr>\n",
       "      <th>3</th>\n",
       "      <td>(250, 0.2)</td>\n",
       "      <td>Nitrogen Limiting Condition</td>\n",
       "      <td>Nitrogen Limiting Condition</td>\n",
       "    </tr>\n",
       "    <tr>\n",
       "      <th>4</th>\n",
       "      <td>(250, 2.5)</td>\n",
       "      <td>Nitrogen Limiting Condition</td>\n",
       "      <td>Light Limiting Condition</td>\n",
       "    </tr>\n",
       "    <tr>\n",
       "      <th>5</th>\n",
       "      <td>(250, 6)</td>\n",
       "      <td>Light Limiting Condition</td>\n",
       "      <td>Light Limiting Condition</td>\n",
       "    </tr>\n",
       "    <tr>\n",
       "      <th>6</th>\n",
       "      <td>(500, 0.2)</td>\n",
       "      <td>Nitrogen Limiting Condition</td>\n",
       "      <td>Nitrogen Limiting Condition</td>\n",
       "    </tr>\n",
       "    <tr>\n",
       "      <th>7</th>\n",
       "      <td>(500, 2.5)</td>\n",
       "      <td>Nitrogen Limiting Condition</td>\n",
       "      <td>Nitrogen Limiting Condition</td>\n",
       "    </tr>\n",
       "    <tr>\n",
       "      <th>8</th>\n",
       "      <td>(500, 6)</td>\n",
       "      <td>Light Limiting Condition</td>\n",
       "      <td>Light Limiting Condition</td>\n",
       "    </tr>\n",
       "  </tbody>\n",
       "</table>\n",
       "</div>"
      ],
      "text/plain": [
       "       Uptake                Evaluation_c3                Evaluation_c4\n",
       "0  (100, 0.2)  Nitrogen Limiting Condition  Nitrogen Limiting Condition\n",
       "1  (100, 2.5)     Light Limiting Condition     Light Limiting Condition\n",
       "2    (100, 6)     Light Limiting Condition     Light Limiting Condition\n",
       "3  (250, 0.2)  Nitrogen Limiting Condition  Nitrogen Limiting Condition\n",
       "4  (250, 2.5)  Nitrogen Limiting Condition     Light Limiting Condition\n",
       "5    (250, 6)     Light Limiting Condition     Light Limiting Condition\n",
       "6  (500, 0.2)  Nitrogen Limiting Condition  Nitrogen Limiting Condition\n",
       "7  (500, 2.5)  Nitrogen Limiting Condition  Nitrogen Limiting Condition\n",
       "8    (500, 6)     Light Limiting Condition     Light Limiting Condition"
      ]
     },
     "execution_count": 9,
     "metadata": {},
     "output_type": "execute_result"
    }
   ],
   "source": [
    "\"\"\"Creating dataframe to display the results\"\"\"\n",
    "Uptake = [str(tuple) for tuple in classif_c3.keys()]\n",
    "Evaluation_c3 = [string for string in classif_c3.values()]\n",
    "Evaluation_c4 = [string for string in classif_c4.values()]\n",
    "list_of_tuples = list(zip(Uptake, Evaluation_c3, Evaluation_c4))\n",
    "df_classif = pd.DataFrame(list_of_tuples, columns=[\"Uptake\", \"Evaluation_c3\", \"Evaluation_c4\"])\n",
    "\n",
    "df_classif\n"
   ]
  },
  {
   "cell_type": "markdown",
   "metadata": {},
   "source": [
    "### Determining optimal biomass and absolute sum of fluxes for starting points"
   ]
  },
  {
   "cell_type": "code",
   "execution_count": 10,
   "metadata": {},
   "outputs": [],
   "source": [
    "\"\"\"\n",
    "Functions to perform the simulationm for determination of optimal biomass and absolute sum of fluxes\n",
    "\"\"\"\n",
    "\n",
    "def c3_simulation(light, N, c3_model):\n",
    "    with c3_model:\n",
    "        c3_model.objective = \"Arabidopsis_biomass_tx\"\n",
    "        #Bounds for light\n",
    "        set_bounds('Photon_tx', (0, light), c3_model)\n",
    "        #Bounds for Nitrogen\n",
    "        set_bounds('Nitrate_tx', (0, N), c3_model)\n",
    "        #pFBA\n",
    "        c3_model.objective = \"Arabidopsis_biomass_tx\"\n",
    "        solution = flux_analysis.pfba(c3_model)\n",
    "        sum_of_flux = solution.fluxes.abs().sum()\n",
    "        solution_frame=solution.to_frame()\n",
    "        growth = solution_frame.loc[\"Arabidopsis_biomass_tx\"][\"fluxes\"]\n",
    "        return (sum_of_flux, growth)\n",
    "\n",
    "def c4_simulation(light, N, c4_model):\n",
    "    ##C4\n",
    "    with c4_model:\n",
    "        c4_model.objective = '[B]_Maize_biomass_tx'\n",
    "        #Light Uptale constrain\n",
    "        B_Im_hnu = c4_model.reactions.get_by_id(\"[B]_Photon_tx\")\n",
    "        M_Im_hnu = c4_model.reactions.get_by_id(\"[M]_Photon_tx\")\n",
    "        #CONSTRAINT: Total Photon uptake limited to \"light\" µE\n",
    "        const_hnu_sum = c4_model.problem.Constraint( B_Im_hnu.flux_expression + M_Im_hnu.flux_expression,\n",
    "                                                lb = 0, ub = light)\n",
    "        c4_model.add_cons_vars(const_hnu_sum)\n",
    "        #CONSTRAINT: Total Photon uptake by bundle sheath must be less or equal than in mesophyll\n",
    "        const_hnu_ratio = c4_model.problem.Constraint( M_Im_hnu.flux_expression - B_Im_hnu.flux_expression,\n",
    "                                                lb = 0, ub = light)\n",
    "        c4_model.add_cons_vars(const_hnu_ratio)\n",
    "        #CONSTRAINT : Total N uptake must not surpass defined upper bound\n",
    "        bs_n = c4_model.reactions.get_by_id(\"[B]_Nitrate_tx\")\n",
    "        m_n = c4_model.reactions.get_by_id(\"[M]_Nitrate_tx\")\n",
    "        const_n_ratio = c4_model.problem.Constraint( bs_n.flux_expression + m_n.flux_expression,\n",
    "                                               lb = 0, ub = N)\n",
    "        c4_model.add_cons_vars(const_n_ratio)\n",
    "        #pFBA\n",
    "        solution = flux_analysis.pfba(c4_model)\n",
    "        sum_of_flux = solution.fluxes.abs().sum()\n",
    "        solution_frame=solution.to_frame()\n",
    "        growth = solution_frame.loc[\"[B]_Maize_biomass_tx\"][\"fluxes\"]\n",
    "        return (sum_of_flux, growth)"
   ]
  },
  {
   "cell_type": "code",
   "execution_count": 11,
   "metadata": {
    "pycharm": {
     "name": "#%%\n"
    }
   },
   "outputs": [],
   "source": [
    "\"\"\"\n",
    "Build Dictionary with the combination of Light/Nitrogen conditions as a key,\n",
    " and Biomass flux and Sum of fluxes as values\n",
    "\"\"\"\n",
    "\n",
    "#Grid of light and Nitrogen conditions to use\n",
    "light_uptake = [100, 250, 500]\n",
    "nitrogen_uptake = [0.2, 2.5, 6]\n",
    "\n",
    "#Dictionaries to hold the results\n",
    "res_c3 = {}\n",
    "res_c4 = {}\n",
    "\n",
    "#Perform the simulations for diferent combinations of Light/N and store them in the dictionary\n",
    "for l in light_uptake:\n",
    "    for n in nitrogen_uptake:\n",
    "        res_c3[(l,n)] = c3_simulation(l,n,c3_model)\n",
    "        res_c4[(l,n)] = c4_simulation(l,n,c4_model)\n"
   ]
  },
  {
   "cell_type": "code",
   "execution_count": 12,
   "metadata": {
    "pycharm": {
     "name": "#%%\n"
    }
   },
   "outputs": [
    {
     "name": "stdout",
     "output_type": "stream",
     "text": [
      "{(100, 0.2): (144.10493789253246, 0.002131443319473939), (100, 2.5): (591.7936402449626, 0.01135038483441206), (100, 6): (591.7936402449626, 0.01135038483441206), (250, 0.2): (144.10493789253246, 0.002131443319473939), (250, 2.5): (1336.7397177187227, 0.026643041493424287), (250, 6): (1467.1946503805327, 0.029318769113676486), (500, 0.2): (144.10493789253246, 0.002131443319473939), (500, 2.5): (1336.7397177187227, 0.026643041493424287), (500, 6): (2929.3002339386258, 0.05926607624578246)}\n"
     ]
    }
   ],
   "source": [
    "\"\"\"\n",
    "Dictionary with C3 model starting points as keys and Sum of fluxes and biomass flux as values\n",
    "\"\"\"\n",
    "\n",
    "print(res_c3)"
   ]
  },
  {
   "cell_type": "code",
   "execution_count": 13,
   "metadata": {
    "pycharm": {
     "name": "#%%\n"
    }
   },
   "outputs": [
    {
     "name": "stdout",
     "output_type": "stream",
     "text": [
      "{(100, 0.2): (307.44209419815803, 0.003956163833772735), (100, 2.5): (693.4916382202775, 0.0102516888431631), (100, 6): (693.4916382202775, 0.0102516888431631), (250, 0.2): (307.44209419815803, 0.003956163833772735), (250, 2.5): (1749.067597877077, 0.027368307237520234), (250, 6): (1749.067597877077, 0.027368307237520234), (500, 0.2): (307.44209419815803, 0.003956163833772735), (500, 2.5): (3012.6684876814793, 0.049452047922157794), (500, 6): (3509.8041135046087, 0.05589600456144882)}\n"
     ]
    }
   ],
   "source": [
    "\"\"\"\n",
    "Dictionary with C4 model starting points as keys and Sum of fluxes and biomass flux as values\n",
    "\"\"\"\n",
    "print(res_c4)"
   ]
  },
  {
   "cell_type": "code",
   "execution_count": 14,
   "metadata": {
    "pycharm": {
     "name": "#%%\n"
    }
   },
   "outputs": [],
   "source": [
    "\"\"\"\n",
    "Build a pandas dataframe from the dictionaries\n",
    "\"\"\"\n",
    "\n",
    "def frame_from_dict(res):\n",
    "    Uptake = [str(tuple) for tuple in res.keys()]\n",
    "    Biomass = [tuple[1] for tuple in res.values()]\n",
    "    Sum_of_fluxes = [tuple[0] for tuple in res.values()]\n",
    "    list_of_tuples = list(zip(Uptake, Biomass, Sum_of_fluxes))\n",
    "    df = pd.DataFrame(list_of_tuples, columns=[\"Uptake\", \"Biomass\", \"Sum_of_fluxes\"])\n",
    "    return df\n",
    "\n",
    "df_c4 = frame_from_dict(res_c4)\n",
    "df_c3 = frame_from_dict(res_c3)\n"
   ]
  },
  {
   "cell_type": "markdown",
   "metadata": {},
   "source": [
    "### Plots"
   ]
  },
  {
   "cell_type": "markdown",
   "metadata": {},
   "source": [
    "In the following plots, a comparative analysis between the biomass flux and the sum of fluxes between the C3 and C4 models is performed for every starting point. The previous information about nitrogen and light limitation is incorporated using a color scheme. The **nitrogen-limited** starting points are represented in **green**, while the **light-limited** points are represented in **yellow**. In **grey** is represented the starting point which is **nitrogen-limited in C3** and **light-limited in C4**."
   ]
  },
  {
   "cell_type": "code",
   "execution_count": 15,
   "metadata": {
    "pycharm": {
     "name": "#%%\n"
    }
   },
   "outputs": [
    {
     "data": {
      "image/png": "[encoded data removed]",
      "text/plain": [
       "<Figure size 432x288 with 1 Axes>"
      ]
     },
     "metadata": {},
     "output_type": "display_data"
    }
   ],
   "source": [
    "\"\"\"\n",
    "Plot biomass flux values as a function of the Light/N uptake\n",
    "\"\"\"\n",
    "\n",
    "concatenated = pd.concat([df_c4.assign(Models ='Maize C4'), df_c3.assign(Models ='Arabidopsis C3')])\n",
    "sns.set_theme(style=\"whitegrid\")\n",
    "sns.barplot(x='Uptake', y='Biomass', data=concatenated, hue=\"Models\", palette=[\"gold\", \"green\"])\n",
    "plt.title(\"Biomass variaton by Light and Nitrogen uptake\")\n",
    "plt.xlabel('Maximum Uptake (Light, Nitrogen)')\n",
    "plt.ylabel('Biomass')\n",
    "plt.xticks(rotation=45, horizontalalignment='center', fontweight='light')\n",
    "plt.axvspan(xmin = -0.5,xmax= 0.5, ymin = 0, ymax = 1, facecolor = \"green\",  alpha = 0.2)\n",
    "plt.axvspan(xmin = 0.5,xmax= 1.5, ymin = 0, ymax = 1, facecolor = \"yellow\",  alpha = 0.2)\n",
    "plt.axvspan(xmin = 1.5,xmax= 2.5, ymin = 0, ymax = 1, facecolor = \"yellow\",  alpha = 0.2)\n",
    "plt.axvspan(xmin = 2.5,xmax= 3.5, ymin = 0, ymax = 1, facecolor = \"green\",  alpha = 0.2)\n",
    "plt.axvspan(xmin = 3.5,xmax= 4.5, ymin = 0, ymax = 1, facecolor = \"grey\",  alpha = 0.2)\n",
    "plt.axvspan(xmin = 4.5,xmax= 5.5, ymin = 0, ymax = 1, facecolor = \"yellow\",  alpha = 0.2)\n",
    "plt.axvspan(xmin = 5.5,xmax= 6.5, ymin = 0, ymax = 1, facecolor = \"green\",  alpha = 0.2)\n",
    "plt.axvspan(xmin = 6.5,xmax= 7.5, ymin = 0, ymax = 1, facecolor = \"green\",  alpha = 0.2)\n",
    "plt.axvspan(xmin = 7.5,xmax= 8.5, ymin = 0, ymax = 1, facecolor = \"yellow\",  alpha = 0.2)\n",
    "\n",
    "#plt.savefig('Biomass_Points.svg', format='svg', bbox_inches = 'tight')\n",
    "plt.show()"
   ]
  },
  {
   "cell_type": "code",
   "execution_count": 16,
   "metadata": {
    "pycharm": {
     "name": "#%%\n"
    }
   },
   "outputs": [
    {
     "data": {
      "image/png": "[encoded data removed]",
      "text/plain": [
       "<Figure size 432x288 with 1 Axes>"
      ]
     },
     "metadata": {},
     "output_type": "display_data"
    }
   ],
   "source": [
    "#Plot Sum of fluxes as a function of the Light/N uptake\n",
    "\n",
    "sns.barplot(x='Uptake', y='Sum_of_fluxes', data=concatenated, hue=\"Models\", palette=[\"gold\", \"green\"])\n",
    "plt.title(\"Sum of fluxes variaton by Light and Nitrogen uptake\")\n",
    "plt.xlabel('Maximum Uptake (Light, Nitrogen)')\n",
    "plt.ylabel('Absolute Sum of fluxes')\n",
    "plt.xticks(rotation=45, horizontalalignment='center', fontweight='light')\n",
    "plt.axvspan(xmin = -0.5,xmax= 0.5, ymin = 0, ymax = 1, facecolor = \"green\",  alpha = 0.2)\n",
    "plt.axvspan(xmin = 0.5,xmax= 1.5, ymin = 0, ymax = 1, facecolor = \"yellow\",  alpha = 0.2)\n",
    "plt.axvspan(xmin = 1.5,xmax= 2.5, ymin = 0, ymax = 1, facecolor = \"yellow\",  alpha = 0.2)\n",
    "plt.axvspan(xmin = 2.5,xmax= 3.5, ymin = 0, ymax = 1, facecolor = \"green\",  alpha = 0.2)\n",
    "plt.axvspan(xmin = 3.5,xmax= 4.5, ymin = 0, ymax = 1, facecolor = \"grey\",  alpha = 0.2)\n",
    "plt.axvspan(xmin = 4.5,xmax= 5.5, ymin = 0, ymax = 1, facecolor = \"yellow\",  alpha = 0.2)\n",
    "plt.axvspan(xmin = 5.5,xmax= 6.5, ymin = 0, ymax = 1, facecolor = \"green\",  alpha = 0.2)\n",
    "plt.axvspan(xmin = 6.5,xmax= 7.5, ymin = 0, ymax = 1, facecolor = \"green\",  alpha = 0.2)\n",
    "plt.axvspan(xmin = 7.5,xmax= 8.5, ymin = 0, ymax = 1, facecolor = \"yellow\",  alpha = 0.2)\n",
    "#plt.savefig('SoF_Points.svg', format='svg', bbox_inches = 'tight')\n",
    "plt.show()"
   ]
  }
 ],
 "metadata": {
  "kernelspec": {
   "display_name": "Python 3",
   "language": "python",
   "name": "python3"
  },
  "language_info": {
   "codemirror_mode": {
    "name": "ipython",
    "version": 3
   },
   "file_extension": ".py",
   "mimetype": "text/x-python",
   "name": "python",
   "nbconvert_exporter": "python",
   "pygments_lexer": "ipython3",
   "version": "3.7.9"
  }
 },
 "nbformat": 4,
 "nbformat_minor": 1
}
