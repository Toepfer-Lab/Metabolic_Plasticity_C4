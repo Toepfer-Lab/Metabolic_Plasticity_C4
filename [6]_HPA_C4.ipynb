{
 "cells": [
  {
   "cell_type": "markdown",
   "metadata": {},
   "source": [
    "# Obtaining High Performance Areas (C4 model)"
   ]
  },
  {
   "cell_type": "markdown",
   "metadata": {},
   "source": [
    "## Imports"
   ]
  },
  {
   "cell_type": "code",
   "execution_count": 12,
   "metadata": {
    "pycharm": {
     "name": "#%%\n"
    }
   },
   "outputs": [],
   "source": [
    "from cobra.io import read_sbml_model\n",
    "from cobra import flux_analysis\n",
    "import random\n",
    "import time\n",
    "from cobra.flux_analysis import flux_variability_analysis\n",
    "import pandas as pd\n",
    "import seaborn as sns\n",
    "import matplotlib.pyplot as plt"
   ]
  },
  {
   "cell_type": "markdown",
   "metadata": {},
   "source": [
    "## Reading and preparing the model"
   ]
  },
  {
   "cell_type": "code",
   "execution_count": 13,
   "metadata": {
    "pycharm": {
     "name": "#%%\n"
    }
   },
   "outputs": [
    {
     "name": "stderr",
     "output_type": "stream",
     "text": [
      "No objective coefficients in model. Unclear what should be optimized\n"
     ]
    }
   ],
   "source": [
    "\"\"\"\n",
    "Read and prepare C4 model\n",
    "\"\"\"\n",
    "\n",
    "c4_model = read_sbml_model(\"c4_model.xml\")\n",
    "\n",
    "c4_model.solver = \"glpk\"\n",
    "\n",
    "c4_model.objective = '[B]_Maize_biomass_tx'\n",
    "\n",
    "def c4_maintenance(c4_model):\n",
    "    #Constrains for light dependent maintenance costs\n",
    "    atp_b = c4_model.reactions.get_by_id(\"[B]_ATPase_tx\")\n",
    "    photon_b = c4_model.reactions.get_by_id(\"[B]_Photon_tx\")\n",
    "    atp_m = c4_model.reactions.get_by_id(\"[M]_ATPase_tx\")\n",
    "    photon_m = c4_model.reactions.get_by_id(\"[M]_Photon_tx\")\n",
    "\n",
    "    const_b = c4_model.problem.Constraint((0.0049 * photon_b.flux_expression + 2.7852) - atp_b.flux_expression , lb = 0, ub = 0)\n",
    "    c4_model.add_cons_vars(const_b)\n",
    "\n",
    "    const_m = c4_model.problem.Constraint((0.0049 * photon_m.flux_expression + 2.7852) - atp_m.flux_expression , lb = 0, ub = 0)\n",
    "    c4_model.add_cons_vars(const_m)\n",
    "    # ATP/NADPH 3:1 constraints\n",
    "    const = c4_model.problem.Constraint(c4_model.reactions.get_by_id(\"[B]_ATPase_tx\").flux_expression -  3 * (c4_model.reactions.get_by_id(\"[B]_NADPHoxc_tx\").flux_expression + c4_model.reactions.get_by_id(\"[B]_NADPHoxp_tx\").flux_expression + c4_model.reactions.get_by_id(\"[B]_NADPHoxm_tx\").flux_expression) , lb = 0, ub = 0)\n",
    "    c4_model.add_cons_vars(const)\n",
    "\n",
    "    const = c4_model.problem.Constraint(c4_model.reactions.get_by_id(\"[M]_ATPase_tx\").flux_expression -  3 * (c4_model.reactions.get_by_id(\"[M]_NADPHoxc_tx\").flux_expression + c4_model.reactions.get_by_id(\"[M]_NADPHoxp_tx\").flux_expression + c4_model.reactions.get_by_id(\"[M]_NADPHoxm_tx\").flux_expression) , lb = 0, ub = 0)\n",
    "    c4_model.add_cons_vars(const)\n",
    "\n",
    "#Add Light dependent maintenance\n",
    "c4_maintenance(c4_model)\n",
    "\n",
    "\n",
    "#Ensuring directionality of uptake reaction\n",
    "c4_model.reactions.get_by_id(\"[B]_Nitrate_tx\").bounds = (0, 999999)\n",
    "c4_model.reactions.get_by_id(\"[M]_Nitrate_tx\").bounds = (0, 999999)\n",
    "c4_model.reactions.get_by_id(\"[B]_Photon_tx\").bounds = (0, 999999)\n",
    "c4_model.reactions.get_by_id(\"[M]_Photon_tx\").bounds = (0, 999999)\n"
   ]
  },
  {
   "cell_type": "markdown",
   "metadata": {},
   "source": [
    "## Performing pFBA\n",
    "\n",
    "### Determination of biomass flux and absolute sum of fluxes for each of the 9 starting points"
   ]
  },
  {
   "cell_type": "code",
   "execution_count": 14,
   "metadata": {
    "pycharm": {
     "name": "#%%\n"
    }
   },
   "outputs": [],
   "source": [
    "\"\"\"\n",
    "Functions to perform the simulation\n",
    "\"\"\"\n",
    "\n",
    "def c4_simulation(light, N, c4_model):\n",
    "    ##C4\n",
    "    with c4_model:\n",
    "        #Light Uptale constrain\n",
    "        B_Im_hnu = c4_model.reactions.get_by_id(\"[B]_Photon_tx\")\n",
    "        M_Im_hnu = c4_model.reactions.get_by_id(\"[M]_Photon_tx\")\n",
    "        #CONSTRAINT: Total Photon uptake limited to \"light\" µE\n",
    "        const_hnu_sum = c4_model.problem.Constraint( B_Im_hnu.flux_expression + M_Im_hnu.flux_expression,\n",
    "                                                lb = 0, ub = light)\n",
    "        c4_model.add_cons_vars(const_hnu_sum)\n",
    "        #CONSTRAINT: Total Photon uptake by bundle sheath must be less or equal than in mesophyll\n",
    "        const_hnu_ratio = c4_model.problem.Constraint( M_Im_hnu.flux_expression - B_Im_hnu.flux_expression,\n",
    "                                                lb = 0, ub = light)\n",
    "        c4_model.add_cons_vars(const_hnu_ratio)\n",
    "        #CONSTRAINT : Total N uptake must not surpass defined upper bound\n",
    "        m_n = c4_model.reactions.get_by_id(\"[B]_Nitrate_tx\")\n",
    "        bs_n = c4_model.reactions.get_by_id(\"[M]_Nitrate_tx\")\n",
    "        const_n_ratio = c4_model.problem.Constraint( bs_n.flux_expression + m_n.flux_expression,\n",
    "                                               lb = 0, ub = N)\n",
    "        c4_model.add_cons_vars(const_n_ratio)\n",
    "        #pFBA\n",
    "        solution = flux_analysis.pfba(c4_model)\n",
    "        sum_of_flux = solution.fluxes.abs().sum()\n",
    "        solution_frame=solution.to_frame()\n",
    "        growth = solution_frame.loc[\"[B]_Maize_biomass_tx\"][\"fluxes\"]\n",
    "        return (sum_of_flux, growth)"
   ]
  },
  {
   "cell_type": "code",
   "execution_count": 15,
   "metadata": {
    "pycharm": {
     "name": "#%%\n"
    }
   },
   "outputs": [
    {
     "name": "stdout",
     "output_type": "stream",
     "text": [
      "{(100, 0.2): (307.44209419816093, 0.003956163833772806), (100, 2.5): (693.4916382201047, 0.010251688843162948), (100, 6): (693.4916382201047, 0.010251688843162948), (250, 0.2): (307.4420941981622, 0.00395616383377281), (250, 2.5): (1749.0675978769336, 0.027368307237520158), (250, 6): (1749.0675978769336, 0.027368307237520158), (500, 0.2): (307.4420941981622, 0.00395616383377281), (500, 2.5): (3012.6684876816544, 0.049452047922160326), (500, 6): (3509.804113505037, 0.05589600456144867)}\n"
     ]
    }
   ],
   "source": [
    "\"\"\"\n",
    "Build Dictionary with the combination of Light/Nitrogen conditions as a key,\n",
    " and Biomass flux and Sum of fluxes as values\n",
    "\"\"\"\n",
    "\n",
    "#Grid of light and Nitrogen conditions to use\n",
    "light_uptake = [100, 250, 500]\n",
    "nitrogen_uptake = [0.2, 2.5, 6]\n",
    "\n",
    "#Dictionaries to hold the results\n",
    "res_c4 = {}\n",
    "\n",
    "#Perform the simulations for diferent combinations of Light/N and store them in the dictionary\n",
    "for l in light_uptake:\n",
    "    for n in nitrogen_uptake:\n",
    "        res_c4[(l,n)] = c4_simulation(l,n,c4_model)\n",
    "\n",
    "print(res_c4)\n",
    "\n"
   ]
  },
  {
   "cell_type": "markdown",
   "metadata": {},
   "source": [
    "## Computation of the High Performance Areas"
   ]
  },
  {
   "cell_type": "markdown",
   "metadata": {},
   "source": [
    "In order to compute the high performance area for a starting point a technique involving random sampling was devised in order to map out this area. Firstly, flux balance analysis (FVA) was used to estimate the range of possible nitrogen and light uptake values, with the FVA constrained to have at least a sum of fluxes equal to the absolute sum of fluxes of the starting point. This will save us a lot of computation time, by defining a priori the bounds in which random values for nitrogen and light uptake should be generated.\n",
    "\n",
    "Then, a new pFBA simulation will be performed with the constrains that the biomass value must be at least 80% of the one obtained with the initial pFBA simulation for the starting point, and the sum of fluxes value cannot surpass the one determined for the starting point.\n",
    "\n",
    "By defining the high performance areas as the range of feasible solutions for the model under the aforementioned constrains for different light and nitrogen uptakes, one of the most logical courses of action in order to map them out would be to perform a lot of simulations with different light and nitrogen uptakes, and store feasible solutions. That is exactly what the code described below performs.\n",
    "\n",
    "The function will receive the feasible range of uptakes of nitrogen and light from the FVA and use them in functions from the random module of python, which will generate random numbers within those constrains. These values will then be used as a forced flux value for the nitrogen and light uptakes of the simulation. Unfeasible solutions will be ignored, and the algorithm will stop once 500 feasible solutions have been reached."
   ]
  },
  {
   "cell_type": "markdown",
   "metadata": {},
   "source": [
    "The are differences in the implementation of this methodology in the C4 model when compared with the C3 model. The main issue is that there are two possible uptake reactions for nitrogen and light each: one in the bundle sheath and one in the mesophyll. \n",
    "\n",
    "This adds another level of complexity when using FVA to compute the uptake bounds, as both reactions must be taken into acccount in order to determine total uptake. As such, another function was created in order to handle FVA results and attempt to establish the high performance area bounds for the random simulations. This was only partially successfull though. \n",
    "\n",
    "The FVA determined bounds were able to pinpoint the approximate location of the respective high performance area in the 2D solution space, but it wasn't able to fully encompass it. In order to determine the true high performance are, the FVA results were used as a starting point, and then manually expanded untill no more points were included into the HPA. "
   ]
  },
  {
   "cell_type": "code",
   "execution_count": 16,
   "metadata": {
    "pycharm": {
     "name": "#%%\n"
    }
   },
   "outputs": [],
   "source": [
    "\"\"\"\n",
    "Function to perform the FVA at 80% fraction of optimum, restraining the \n",
    "sum of fluxes to be at maximum equal to the sum of fluxes of the initial point\n",
    "\"\"\"\n",
    "\n",
    "def fva_c4(sum_of_flux, c4_model):\n",
    "        if sum_of_flux is not None:\n",
    "        #Sum of flux constrain\n",
    "            coefficients = dict()\n",
    "            for rxn in c4_model.reactions:\n",
    "                coefficients[rxn.forward_variable] = 1.\n",
    "                coefficients[rxn.reverse_variable] = 1.\n",
    "            constraint = c4_model.problem.Constraint(0, lb=0, ub=sum_of_flux)\n",
    "\n",
    "            c4_model.add_cons_vars(constraint)\n",
    "            c4_model.solver.update()\n",
    "            constraint.set_linear_coefficients(coefficients=coefficients)\n",
    "\n",
    "        #FVA\n",
    "        solution = flux_variability_analysis(c4_model, reaction_list=[\"[B]_Nitrate_tx\",\"[M]_Nitrate_tx\", \"[B]_Photon_tx\", \"[M]_Photon_tx\"], fraction_of_optimum=0.8)\n",
    "        return solution\n"
   ]
  },
  {
   "cell_type": "code",
   "execution_count": 17,
   "metadata": {
    "pycharm": {
     "name": "#%%\n"
    }
   },
   "outputs": [],
   "source": [
    "\"\"\"\n",
    "Function to handle FVA outputs\n",
    "\"\"\"\n",
    "\n",
    "def starting_conditions(initial_point):\n",
    "    \n",
    "    n_list = [\"[B]_Nitrate_tx\",\"[M]_Nitrate_tx\"]\n",
    "    l_list = [\"[B]_Photon_tx\", \"[M]_Photon_tx\"]\n",
    "\n",
    "    min_n = 99999\n",
    "    max_n = 0\n",
    "    min_l = 99999\n",
    "    max_l = 0\n",
    "    \n",
    "    #Handling nitrogen bounds\n",
    "    for r in n_list:\n",
    "        with c4_model:\n",
    "            c4_model.reactions.get_by_id(r).bounds = (0,0)\n",
    "            res = fva_c4(sum_of_flux =  initial_point[0], c4_model=c4_model)\n",
    "            if res.iloc[0][\"minimum\"] < min_n or res.iloc[1][\"minimum\"] < min_n:\n",
    "                minimum = max(res.iloc[0][\"minimum\"], res.iloc[1][\"minimum\"])\n",
    "                min_n = min(minimum, min_n)\n",
    "            if res.iloc[0][\"maximum\"] > max_n or res.iloc[1][\"maximum\"] > max_n:\n",
    "                maximum = max(res.iloc[0][\"maximum\"], res.iloc[1][\"maximum\"] )\n",
    "                max_n = maximum\n",
    "    \n",
    "    #Handling light bounds\n",
    "    for r in l_list:\n",
    "        with c4_model:\n",
    "            c4_model.reactions.get_by_id(r).bounds = (0,0)\n",
    "            res = fva_c4(sum_of_flux =  initial_point[0], c4_model=c4_model)\n",
    "            if res.iloc[2][\"minimum\"] < min_l or res.iloc[3][\"minimum\"] < min_l:\n",
    "                minimum = max(res.iloc[2][\"minimum\"], res.iloc[3][\"minimum\"])\n",
    "                min_l = min(minimum, min_l)\n",
    "            if res.iloc[2][\"maximum\"] > max_l or res.iloc[3][\"maximum\"] > max_l:\n",
    "                maximum = max(res.iloc[2][\"maximum\"], res.iloc[3][\"maximum\"])\n",
    "                max_l = maximum\n",
    "    \n",
    "    return min_n, max_n, min_l, max_l\n"
   ]
  },
  {
   "cell_type": "code",
   "execution_count": 18,
   "metadata": {
    "pycharm": {
     "name": "#%%\n"
    }
   },
   "outputs": [],
   "source": [
    "\"\"\"\n",
    "Function to perform the sampling using random points in a uniform distribution\n",
    "\"\"\"\n",
    "\n",
    "\n",
    "def random_simul_c4(light_lb, light_ub, nitrogen_lb, nitrogen_ub, sum_of_flux, biomass, c4_model):\n",
    "    with c4_model:\n",
    "        if sum_of_flux is not None:\n",
    "        #Sum of flux constrain\n",
    "            coefficients = dict()\n",
    "            for rxn in c4_model.reactions:\n",
    "                coefficients[rxn.forward_variable] = 1.\n",
    "                coefficients[rxn.reverse_variable] = 1.\n",
    "            constraint = c4_model.problem.Constraint(0, lb=0, ub=sum_of_flux)\n",
    "\n",
    "            c4_model.add_cons_vars(constraint)\n",
    "            c4_model.solver.update()\n",
    "            constraint.set_linear_coefficients(coefficients=coefficients)\n",
    "\n",
    "        #Bounds for Biomass\n",
    "        c4_model.reactions.get_by_id(\"[B]_Maize_biomass_tx\").lower_bound = biomass * 0.8\n",
    "        c4_model.reactions.get_by_id(\"[B]_Maize_biomass_tx\").upper_bound = 9999\n",
    "\n",
    "        #Bounds for light\n",
    "        random_light = random.uniform(light_lb, light_ub)\n",
    "\n",
    "        #Light Uptake constrain\n",
    "        B_Im_hnu = c4_model.reactions.get_by_id(\"[B]_Photon_tx\")\n",
    "        B_Im_hnu.bounds = (0, 9999999)\n",
    "\n",
    "\n",
    "        M_Im_hnu = c4_model.reactions.get_by_id(\"[M]_Photon_tx\")\n",
    "        M_Im_hnu.bounds = (0, 99999999)\n",
    "\n",
    "        #CONSTRAINT: Total Photon uptake limited to \"light\" µE\n",
    "        const_hnu_sum = c4_model.problem.Constraint( B_Im_hnu.flux_expression + M_Im_hnu.flux_expression,\n",
    "                                                lb = random_light, ub = random_light)\n",
    "        c4_model.add_cons_vars(const_hnu_sum)\n",
    "        #CONSTRAINT: Total Photon uptake by bundle sheath must be less or equal than in mesophyll\n",
    "        const_hnu_ratio = c4_model.problem.Constraint( M_Im_hnu.flux_expression - B_Im_hnu.flux_expression,\n",
    "                                                lb = 0, ub = random_light)\n",
    "        c4_model.add_cons_vars(const_hnu_ratio)\n",
    "\n",
    "        #Bounds for N\n",
    "        random_nitrogen = random.uniform(nitrogen_lb, nitrogen_ub)\n",
    "\n",
    "        #CONSTRAINT : Total N uptake must not surpass defined upper bound\n",
    "        bs_n = c4_model.reactions.get_by_id(\"[B]_Nitrate_tx\")\n",
    "        bs_n.bounds = (0, 9999999)\n",
    "\n",
    "        m_n = c4_model.reactions.get_by_id(\"[M]_Nitrate_tx\")\n",
    "        m_n.bounds = (0, 9999999)\n",
    "\n",
    "        const_n_ratio = c4_model.problem.Constraint( bs_n.flux_expression + m_n.flux_expression,\n",
    "                                               lb = random_nitrogen, ub = random_nitrogen )\n",
    "        c4_model.add_cons_vars(const_n_ratio)\n",
    "\n",
    "        #pFBA\n",
    "        try:\n",
    "            solution = flux_analysis.pfba(c4_model)\n",
    "            solution_frame=solution.to_frame()\n",
    "            growth = solution_frame.loc[\"[B]_Maize_biomass_tx\"][\"fluxes\"]\n",
    "            nitrogen_uptake = solution_frame.loc[\"[B]_Nitrate_tx\"][\"fluxes\"] + solution_frame.loc[\"[M]_Nitrate_tx\"][\"fluxes\"]\n",
    "            light_uptake = solution_frame.loc[\"[M]_Photon_tx\"][\"fluxes\"] + solution_frame.loc[\"[B]_Photon_tx\"][\"fluxes\"]\n",
    "            sum_of_fluxes= solution.fluxes.abs().sum()\n",
    "            return light_uptake, nitrogen_uptake, growth, sum_of_fluxes\n",
    "        except:\n",
    "            pass"
   ]
  },
  {
   "cell_type": "code",
   "execution_count": null,
   "metadata": {
    "pycharm": {
     "name": "#%%\n",
     "is_executing": true
    }
   },
   "outputs": [],
   "source": [
    "\"\"\"\n",
    "Perform the sampling\n",
    "\"\"\"\n",
    "#Reproducibility\n",
    "random.seed(123)\n",
    "\n",
    "#Lists to store the results\n",
    "res_list_n = []\n",
    "res_list_light = []\n",
    "res_list_biomass = []\n",
    "res_list_sof = []\n",
    "\n",
    "#Termination Condition\n",
    "i = True\n",
    "\n",
    "#Defining starting point to be run (manual)\n",
    "test = res_c4[(500,6)]\n",
    "\n",
    "start = time.time()\n",
    "\n",
    "#Determining initial points (FVA)\n",
    "starting = starting_conditions(test)\n",
    "\n",
    "print(starting)\n",
    "\n",
    "n_lb = starting[0]\n",
    "n_ub = starting[1]\n",
    "l_lb = starting[2]\n",
    "l_ub = starting[3]\n",
    "\n",
    "print(\"FVA is complete\")\n",
    "\n",
    "#Simulation loop\n",
    "\n",
    "while i:\n",
    "    res = random_simul_c4(light_lb=l_lb, light_ub = l_ub , nitrogen_lb = n_lb , #Initially from the FVA, later manually adjusted\n",
    "                          nitrogen_ub = n_ub,sum_of_flux = test[0],biomass = test[1] , c4_model=c4_model)\n",
    "    if res != None:\n",
    "        res_list_light.append(res[0])\n",
    "        res_list_n.append(res[1])\n",
    "        res_list_biomass.append(res[2])\n",
    "        res_list_sof.append(res[3])\n",
    "    if len(res_list_n) == 500: #Number of viable solutions to be kept\n",
    "        i = False\n",
    "\n",
    "end = time.time()\n",
    "print(f\"This simulation lasted {(end - start)/60} minutes\")\n",
    "print(f\"This simulation lasted {(end - start)} seconds\")\n"
   ]
  },
  {
   "cell_type": "code",
   "execution_count": null,
   "metadata": {
    "pycharm": {
     "name": "#%%\n",
     "is_executing": true
    }
   },
   "outputs": [],
   "source": [
    "\"\"\"Lists with results\"\"\"\n",
    "print(res_list_light)\n",
    "print(res_list_n)\n",
    "print(res_list_biomass)\n",
    "print(res_list_sof)\n"
   ]
  },
  {
   "cell_type": "markdown",
   "metadata": {},
   "source": [
    "## Plots"
   ]
  },
  {
   "cell_type": "markdown",
   "metadata": {},
   "source": [
    "Like it was explained aboce, the bounds determined by the FVA were not sufficient to fully map out the High Performance Area corresponding to the tested starting point in the C4 model. In order to perform this task, another simulation would be run after this one with more enlarged bounds, therefore completing the mapping of the HPA until the full \"triangle\" could emerge"
   ]
  },
  {
   "cell_type": "code",
   "execution_count": null,
   "metadata": {
    "pycharm": {
     "name": "#%%\n",
     "is_executing": true
    }
   },
   "outputs": [],
   "source": [
    "\n",
    "df_c4 = pd.DataFrame(list(zip(res_list_light, res_list_n, res_list_biomass, res_list_sof)), columns=[\"Light\", \"N\", \"Biomass\", \"SoF\"])\n",
    "\n",
    "sns.scatterplot(x='Light', y='N', data=df_c4)\n",
    "plt.show()\n",
    "sns.scatterplot(x='Biomass', y='Light', data=df_c4)\n",
    "plt.show()\n",
    "sns.scatterplot(x='Biomass', y='N', data=df_c4)\n",
    "plt.show()\n",
    "sns.scatterplot(x='SoF', y='Biomass', data=df_c4)\n",
    "plt.show()\n",
    "sns.scatterplot(x='SoF', y='N', data=df_c4)\n",
    "plt.show()\n",
    "sns.scatterplot(x='SoF', y='Light', data=df_c4)\n",
    "plt.show()\n"
   ]
  },
  {
   "cell_type": "code",
   "execution_count": null,
   "metadata": {
    "pycharm": {
     "name": "#%%\n",
     "is_executing": true
    }
   },
   "outputs": [],
   "source": [
    "\"\"\"Writing results to .csv file for later plotting\"\"\"\n",
    "\n",
    "#df_c4.to_csv(f\"Sample_{list(res_c4.keys())[0]}_c4.csv\", index=True)"
   ]
  }
 ],
 "metadata": {
  "kernelspec": {
   "display_name": "Python 3",
   "language": "python",
   "name": "python3"
  },
  "language_info": {
   "codemirror_mode": {
    "name": "ipython",
    "version": 3
   },
   "file_extension": ".py",
   "mimetype": "text/x-python",
   "name": "python",
   "nbconvert_exporter": "python",
   "pygments_lexer": "ipython3",
   "version": "3.7.9"
  }
 },
 "nbformat": 4,
 "nbformat_minor": 1
}