{
 "cells": [
  {
   "cell_type": "markdown",
   "metadata": {},
   "source": [
    "# Building the Arabidopsis C3 and Maize C4 models\n",
    "\n",
    "## Imports"
   ]
  },
  {
   "cell_type": "code",
   "execution_count": 1,
   "metadata": {},
   "outputs": [],
   "source": [
    "import pandas as pd\n",
    "from cobra.io import read_sbml_model, write_sbml_model\n",
    "from cobra import flux_analysis, Reaction\n",
    "from model_functions import *\n",
    "#General Core Model\n",
    "general_model = read_sbml_model(\"PlantCoreMetabolism_v2_0_0_deprotonated.sbml\")"
   ]
  },
  {
   "cell_type": "code",
   "execution_count": 2,
   "metadata": {},
   "outputs": [
    {
     "data": {
      "text/html": [
       "\n",
       "        <table>\n",
       "            <tr>\n",
       "                <td><strong>Name</strong></td>\n",
       "                <td>PlantCoreMetabolism_v1_3_0</td>\n",
       "            </tr><tr>\n",
       "                <td><strong>Memory address</strong></td>\n",
       "                <td>0x01b885a57648</td>\n",
       "            </tr><tr>\n",
       "                <td><strong>Number of metabolites</strong></td>\n",
       "                <td>861</td>\n",
       "            </tr><tr>\n",
       "                <td><strong>Number of reactions</strong></td>\n",
       "                <td>892</td>\n",
       "            </tr><tr>\n",
       "                <td><strong>Number of groups</strong></td>\n",
       "                <td>208</td>\n",
       "            </tr><tr>\n",
       "                <td><strong>Objective expression</strong></td>\n",
       "                <td>1.0*Phloem_output_tx - 1.0*Phloem_output_tx_reverse_990b1</td>\n",
       "            </tr><tr>\n",
       "                <td><strong>Compartments</strong></td>\n",
       "                <td>Mitochondrion, Cytoplasm, Biomass, Plastid, Vacuole, Peroxisome, Endoplasmic reticulum, Mitochondrion innermembrane interacting with cristal space, Mitochondrion innermembrane interacting with inter membrane space, Extracellular, Thylakoid, Mitochondrial intermembrane space</td>\n",
       "            </tr>\n",
       "          </table>"
      ],
      "text/plain": [
       "<Model PlantCoreMetabolism_v1_3_0 at 0x1b885a57648>"
      ]
     },
     "execution_count": 2,
     "metadata": {},
     "output_type": "execute_result"
    }
   ],
   "source": [
    "general_model"
   ]
  },
  {
   "cell_type": "markdown",
   "metadata": {},
   "source": [
    "## Adding reactions\n",
    "### Biomass equations and Malate/Pyruvate transporter"
   ]
  },
  {
   "cell_type": "code",
   "execution_count": 3,
   "metadata": {
    "pycharm": {
     "name": "#%%\n"
    }
   },
   "outputs": [],
   "source": [
    "\"\"\"\n",
    "Maize Biomass\n",
    "\"\"\"\n",
    "#Create the biomass reaction\n",
    "reaction = Reaction('Maize_biomass_tx')\n",
    "reaction.name = 'Maize biomass'\n",
    "reaction.lower_bound = 0.  # This is the default\n",
    "reaction.upper_bound = 1000.\n",
    "\n",
    "#Import the pandas dataframe\n",
    "df = pd.read_csv(\"Final_Biomass_V1.csv\")\n",
    "\n",
    "#Get a list with the metabolite IDs from the generic model\n",
    "met_list = []\n",
    "\n",
    "for id in df.loc[:,\"Ids\"]:\n",
    "    met = general_model.metabolites.get_by_id(id)\n",
    "    met_list.append(met)\n",
    "\n",
    "#Create a list with the coefficients\n",
    "coef = list(df.loc[:,\"Maize\"])\n",
    "\n",
    "#Add metabolites to the model: dictionary - keys are metabolites and values are the coefficients\n",
    "for i in range(len(coef)):\n",
    "    reaction.add_metabolites({met_list[i]:coef[i]})\n",
    "    \n",
    "#Add reaction to the model\n",
    "general_model.add_reactions([reaction])"
   ]
  },
  {
   "cell_type": "code",
   "execution_count": 4,
   "metadata": {
    "pycharm": {
     "name": "#%%\n"
    }
   },
   "outputs": [],
   "source": [
    "\"\"\"\n",
    "Arabidopsis biomass\n",
    "\"\"\"\n",
    "\n",
    "reaction = Reaction('Arabidopsis_biomass_tx')\n",
    "reaction.name = 'Arabidopsis biomass'\n",
    "reaction.lower_bound = 0.  # This is the default\n",
    "reaction.upper_bound = 1000.  # This is the default\n",
    "\n",
    "#Import the pandas dataframe\n",
    "df = pd.read_csv(\"Final_Biomass_V1.csv\")\n",
    "\n",
    "#Get a list with the metabolite IDs from the generic model\n",
    "met_list = []\n",
    "\n",
    "for id in df.loc[:,\"Ids\"]:\n",
    "    met = general_model.metabolites.get_by_id(id)\n",
    "    met_list.append(met)\n",
    "\n",
    "#Create a list with the coefficients\n",
    "coef = list(df.loc[:,\"Arabidopsis\"])\n",
    "\n",
    "#Add metabolites to the model: dictionary - keys are metabolites and values are the coefficients\n",
    "for i in range(len(coef)):\n",
    "    reaction.add_metabolites({met_list[i]:coef[i]})\n",
    "\n",
    "#Add reaction to the model\n",
    "general_model.add_reactions([reaction])"
   ]
  },
  {
   "cell_type": "code",
   "execution_count": 5,
   "metadata": {
    "pycharm": {
     "name": "#%%\n"
    }
   },
   "outputs": [],
   "source": [
    "\"\"\"\n",
    "Malate/Pyruvate Transporter\n",
    "\"\"\"\n",
    "#Adding Malate/Pyruvate transporter between the cytosol and plastid compartments\n",
    "\n",
    "MAL_c = general_model.metabolites.MAL_c\n",
    "MAL_p = general_model.metabolites.MAL_p\n",
    "PYRUVATE_c = general_model.metabolites.PYRUVATE_c\n",
    "PYRUVATE_p = general_model.metabolites.PYRUVATE_p\n",
    "\n",
    "#Create the biomass reaction\n",
    "transporter = Reaction('PYR_MAL_pc')\n",
    "transporter.name = 'Malate/Pyruvate Transport'\n",
    "transporter.lower_bound = -1000.  # This is the default\n",
    "transporter.upper_bound = 1000.\n",
    "\n",
    "transporter.add_metabolites({\n",
    "    PYRUVATE_p: -1.0,\n",
    "    MAL_c: -1.0,\n",
    "    PYRUVATE_c: 1.0,\n",
    "    MAL_p: 1.0\n",
    "})\n",
    "\n",
    "general_model.add_reactions([transporter])\n"
   ]
  },
  {
   "cell_type": "markdown",
   "metadata": {},
   "source": [
    "## Adding Constrains to both C3 and C4 models"
   ]
  },
  {
   "cell_type": "code",
   "execution_count": 6,
   "metadata": {
    "pycharm": {
     "name": "#%%\n"
    }
   },
   "outputs": [],
   "source": [
    "\"\"\"\n",
    "Generic constrains\n",
    "\"\"\"\n",
    "#Initial import/export constraints - Defining autotrofic conditions\n",
    "set_bounds('CO2_tx', (-9999999, 999999), general_model)\n",
    "set_bounds('H2O_tx', (-9999999, 999999), general_model)\n",
    "set_bounds('NH4_tx', (0., 0.), general_model)\n",
    "set_bounds('Pi_tx', (0, 999999), general_model)\n",
    "set_bounds('SO4_tx', (0, 9999999), general_model)\n",
    "set_bounds('O2_tx', (-999999, 999999), general_model)\n",
    "set_bounds('Sucrose_tx', (-99999, 0), general_model) #Exported but not imported\n",
    "set_bounds('GLC_tx', (-999999, 0), general_model)\n",
    "\n",
    "#Bounds for ATP\n",
    "set_bounds('ATPase_tx', (0, 999999), general_model)\n",
    "\n",
    "#Bounds for chloroplastic NADPH dehydrogenase and plastoquinol oxidase\n",
    "#set_bounds('ISOCITDEH_RXN_c', (0, 0), general_model) #The only equivalent for the reaction in the Blaetke pipeline is in the cytosol\n",
    "set_bounds('Plastoquinol_Oxidase_p', (0, 0), general_model)\n",
    "\n",
    "#NTT is only active at night\n",
    "set_fixed_flux(\"ATP_ADP_Pi_pc\", 0, general_model)"
   ]
  },
  {
   "cell_type": "markdown",
   "metadata": {},
   "source": [
    "## Building the C4 model"
   ]
  },
  {
   "cell_type": "code",
   "execution_count": 7,
   "metadata": {
    "pycharm": {
     "name": "#%%\n"
    }
   },
   "outputs": [],
   "source": [
    "\"\"\"\n",
    "Creating the C4 model\n",
    "\"\"\"\n",
    "\n",
    "from cobra import Model, Reaction, Metabolite\n",
    "\n",
    "c4_model = Model('c4_model')\n",
    "\n",
    "cell_types = ['M', 'B']\n",
    "\n",
    "#duplicate metabolites\n",
    "for m in general_model.metabolites:\n",
    "    for cell in cell_types:\n",
    "        m_dt = Metabolite('['+cell+']_'+m.id, name = m.formula, compartment = m.compartment)\n",
    "        c4_model.add_metabolites([m_dt])\n",
    "\n",
    "#duplicate reactions\n",
    "for r_c3_obj in general_model.reactions:\n",
    "    for cell in cell_types:\n",
    "        r_c4_obj = Reaction('['+cell+']_'+r_c3_obj.id)\n",
    "        r_c4_obj.name = r_c3_obj.name\n",
    "        r_c4_obj.subsystem = r_c3_obj.subsystem\n",
    "        r_c4_obj.bounds = r_c3_obj.bounds\n",
    "        c4_model.add_reaction(r_c4_obj)\n",
    "        r_c4_obj.add_metabolites({'['+cell+']_'+m_c3_obj.id: r_c3_obj.get_coefficient(m_c3_obj) for m_c3_obj in r_c3_obj.metabolites})\n",
    "\n"
   ]
  },
  {
   "cell_type": "code",
   "execution_count": 8,
   "metadata": {
    "pycharm": {
     "name": "#%%\n"
    }
   },
   "outputs": [],
   "source": [
    "\"\"\"\n",
    "Exchange Reactions\n",
    "\n",
    "All metabolites except Na, AD, DHF, TRXox, TRXrd, T6P and OMP have\n",
    "corresponding metabolites in the plastid compartment of the generic model\n",
    "\n",
    "\"\"\"\n",
    "\n",
    "Na,F26BP, ORO, DHO, GABA, PRPP, AD, DHF, starch, TRXox, TRXrd, T6P, OMP, UMP, CTP, dADP, dCDP, dGDP, dUDP, dATP, dCTP, dGTP = 0,0,0,0,0,0,0,0,0,0,0,0,0,0,0,0,0,0,0,0,0,0\n",
    "\n",
    "\n",
    "no_transport_general = ['NITRATE', \"NITRITE\", \"OXYGEN_MOLECULE\", Na, \"aHS\", \"SULFATE\",\n",
    "                        \"WATER\", \"FRUCTOSE_16_DIPHOSPHATE\",  F26BP, \"DPG\", \"PROTON\", \"ACETALD\", \"ACET\", \"5_10_METHENYL_THF\",\n",
    "                        \"5_METHYL_THF\", \"HOMO_CYS\", \"ADENOSYL_HOMO_CYS\", ORO, DHO,\n",
    "                        GABA, \"ACETYLSERINE\", PRPP, AD, \"THF\", DHF , \"ADENOSINE\", \"MALTOSE\", \"CO_A\", \"L_GLUTAMATE_5_P\", \"aL_GLUTAMATE_5_P_c\"\n",
    "                        \"ACETYL_COA\", \"CELLULOSE\", starch, TRXox, TRXrd, \"L_GLUTAMATE_GAMMA_SEMIALDEHYDE\", T6P, \"S_ADENOSYLMETHIONINE\",\n",
    "                        \"PPI\", \"L_DELTA1_PYRROLINE_5_CARBOXYLATE\", \"AMMONIUM\", \"Pi\", \"CARBON_DIOXIDE\", \"OXALACETIC_ACID\", \"HCO3\",\n",
    "                        \"UTP\",\"aUTP\", \"UDP\",\"aUDP\", \"UDP_GLUCOSE\", \"ATP\", \"aATP\",\"ADP\", \"aADP\",\"AMP\", \"IMP\", \"aIMP\",\"XANTHOSINE_5_PHOSPHATE\", \"aXANTHOSINE_5_PHOSPHATE\",\n",
    "                        \"GTP\", \"aGTP\",\"GDP\",\"aGDP\", \"GMP\",\"aGMP\", \"bGMP\",OMP, UMP, CTP, \"GDP\", \"aGDP\",\"CDP\", dADP,\n",
    "                        dCDP, dGDP, dUDP, \"DUMP\", \"DTMP\",  \"aDTDP\", \"GTP\",\n",
    "                        dATP, dCTP, dGTP, \"DTTP\" \"aDTTP\", \"NAD\", \"NADH\", \"NADP\", \"NADPH\"]\n",
    "\n",
    "#add M/BS exchange reactions\n",
    "L_r_transport = []\n",
    "for m_c3_obj in general_model.metabolites:\n",
    "    if m_c3_obj.id[-1:] == 'c' and m_c3_obj.id[:-2] not in no_transport_general and  m_c3_obj.id[-2:] != 'mc':\n",
    "        r_c4_obj = Reaction('[MB]_'+m_c3_obj.id)\n",
    "        r_c4_obj.name = '[MB]_'+m_c3_obj.id\n",
    "        r_c4_obj.subsystem = 'Exchange'\n",
    "        r_c4_obj.bounds = (-99999999, 9999999)\n",
    "        c4_model.add_reaction(r_c4_obj)\n",
    "        r_c4_obj.add_metabolites({'[M]_'+m_c3_obj.id: -1,'[B]_'+m_c3_obj.id: 1 })\n",
    "        L_r_transport.append('[MB]_'+m_c3_obj.id)"
   ]
  },
  {
   "cell_type": "code",
   "execution_count": 9,
   "metadata": {
    "pycharm": {
     "name": "#%%\n"
    }
   },
   "outputs": [],
   "source": [
    "\"\"\"\n",
    "C4 specific constrains\n",
    "\"\"\"\n",
    "\n",
    "#CONSTRAINT: No CO2 uptake in bundle sheat cells due to suberin layer in cell membranes\n",
    "set_bounds(\"[B]_CO2_tx\", (0.,0.), c4_model)\n",
    "\n",
    "#Force C4 cycle: Block Rubisco carboxylase/oxygenase in Mesophyll\n",
    "set_bounds('[M]_RIBULOSE_BISPHOSPHATE_CARBOXYLASE_RXN_p', (0, 0), c4_model)\n",
    "set_bounds('[M]_RXN_961_p', (0, 0), c4_model)\n",
    "\n",
    "#Force NADP-ME decarboxylation pathway: Block all other decarboxylation reactions except NADP_ME in the plastid\n",
    "set_fixed_flux(\"[B]_PEPCARBOXYKIN_RXN_c\", 0, c4_model)\n",
    "set_fixed_flux(\"[B]_1_PERIOD_1_PERIOD_1_PERIOD_39_RXN_m\", 0, c4_model)\n",
    "set_fixed_flux(\"[B]_MALIC_NADP_RXN_c\", 0, c4_model)\n",
    "\n",
    "#Force NADP-ME decarboxylation pathways: make alternative decarboxylation routes irreversible\n",
    "set_bounds('[B]_CARBAMATE_KINASE_RXN_p', (0, 99999999), c4_model)\n",
    "set_bounds('[M]_CARBAMATE_KINASE_RXN_p', (0, 99999999), c4_model)\n",
    "\n",
    "set_bounds('[B]_ISOCITDEH_RXN_m', (0, 99999999), c4_model)\n",
    "set_bounds('[M]_ISOCITDEH_RXN_m', (0, 99999999), c4_model)\n",
    "\n",
    "set_bounds('[B]_ISOCITDEH_RXN_c', (0, 99999999), c4_model)\n",
    "set_bounds('[M]_ISOCITDEH_RXN_c', (0, 99999999), c4_model)\n",
    "\n",
    "set_bounds('[B]_ISOCITRATE_DEHYDROGENASE_NAD_RXN_m', (0, 99999999), c4_model)\n",
    "set_bounds('[M]_ISOCITRATE_DEHYDROGENASE_NAD_RXN_m', (0, 99999999), c4_model)\n",
    "\n",
    "#Fix malate transport\n",
    "set_bounds('[B]_OAA_MAL_pc', (0, 99999999), c4_model)\n",
    "\n",
    "set_bounds('[B]_PYRUVATE_pc', (0, 0), c4_model)\n",
    "\n",
    "set_bounds('[M]_PYRUVATEORTHOPHOSPHATE_DIKINASE_RXN_c', (0, 0), c4_model)"
   ]
  },
  {
   "cell_type": "code",
   "execution_count": 10,
   "metadata": {
    "pycharm": {
     "name": "#%%\n"
    }
   },
   "outputs": [],
   "source": [
    "\"\"\"\n",
    "Write the models\n",
    "\n",
    "\"\"\"\n",
    "\n",
    "write_sbml_model(general_model, \"c3_model.xml\")\n",
    "write_sbml_model(c4_model, \"c4_model.xml\")\n"
   ]
  },
  {
   "cell_type": "markdown",
   "metadata": {},
   "source": [
    "## Reading the models\n",
    "\n",
    "### Adding Rubisco and Light Dependent Maintenance constrains"
   ]
  },
  {
   "cell_type": "code",
   "execution_count": 11,
   "metadata": {
    "pycharm": {
     "name": "#%%\n"
    }
   },
   "outputs": [],
   "source": [
    "\"\"\"\n",
    "Read and prepare c3 model\n",
    "\"\"\"\n",
    "\n",
    "c3_model = read_sbml_model(\"c3_model.xml\")\n",
    "\n",
    "c3_model.solver = \"glpk\"\n",
    "\n",
    "c3_model.objective = \"Arabidopsis_biomass_tx\"\n",
    "\n",
    "#Setting up Rubisco carboxylase/oxygenase ratio in C3 model\n",
    "set_fixed_flux_ratio({'RIBULOSE_BISPHOSPHATE_CARBOXYLASE_RXN_p':3,'RXN_961_p':1},c3_model)\n",
    "\n",
    "#Setting up Light dependent maintenace in the C3 model\n",
    "def c3_maintenance(c3_model):\n",
    "    #Constrains for light dependent maintenance costs\n",
    "    c3_model.reactions.ATPase_tx.flux_expression\n",
    "    c3_model.reactions.Photon_tx.flux_expression\n",
    "\n",
    "    const = c3_model.problem.Constraint((0.0049 * c3_model.reactions.Photon_tx.flux_expression + 2.7852) - c3_model.reactions.ATPase_tx.flux_expression , lb = 0, ub = 0)\n",
    "    c3_model.add_cons_vars(const)\n",
    "    \n",
    "    # ATP/NADPH 3:1 constraints\n",
    "    const = c3_model.problem.Constraint(c3_model.reactions.ATPase_tx.flux_expression - 3 *(c3_model.reactions.NADPHoxc_tx.flux_expression + c3_model.reactions.NADPHoxp_tx.flux_expression + c3_model.reactions.NADPHoxm_tx.flux_expression) , lb = 0, ub = 0)\n",
    "    c3_model.add_cons_vars(const)\n",
    "    \n",
    "#Add Light dependent maintenance\n",
    "c3_maintenance(c3_model)"
   ]
  },
  {
   "cell_type": "code",
   "execution_count": 12,
   "metadata": {},
   "outputs": [
    {
     "data": {
      "text/html": [
       "\n",
       "        <table>\n",
       "            <tr>\n",
       "                <td><strong>Name</strong></td>\n",
       "                <td>PlantCoreMetabolism_v1_3_0</td>\n",
       "            </tr><tr>\n",
       "                <td><strong>Memory address</strong></td>\n",
       "                <td>0x01b888b78c48</td>\n",
       "            </tr><tr>\n",
       "                <td><strong>Number of metabolites</strong></td>\n",
       "                <td>861</td>\n",
       "            </tr><tr>\n",
       "                <td><strong>Number of reactions</strong></td>\n",
       "                <td>895</td>\n",
       "            </tr><tr>\n",
       "                <td><strong>Number of groups</strong></td>\n",
       "                <td>208</td>\n",
       "            </tr><tr>\n",
       "                <td><strong>Objective expression</strong></td>\n",
       "                <td>1.0*Arabidopsis_biomass_tx - 1.0*Arabidopsis_biomass_tx_reverse_f8680</td>\n",
       "            </tr><tr>\n",
       "                <td><strong>Compartments</strong></td>\n",
       "                <td>Mitochondrion, Cytoplasm, Biomass, Plastid, Vacuole, Peroxisome, Endoplasmic reticulum, Mitochondrion innermembrane interacting with cristal space, Mitochondrion innermembrane interacting with inter membrane space, Extracellular, Thylakoid, Mitochondrial intermembrane space</td>\n",
       "            </tr>\n",
       "          </table>"
      ],
      "text/plain": [
       "<Model PlantCoreMetabolism_v1_3_0 at 0x1b888b78c48>"
      ]
     },
     "execution_count": 12,
     "metadata": {},
     "output_type": "execute_result"
    }
   ],
   "source": [
    "#Complete C3 model\n",
    "c3_model"
   ]
  },
  {
   "cell_type": "code",
   "execution_count": 13,
   "metadata": {
    "pycharm": {
     "name": "#%%\n"
    }
   },
   "outputs": [
    {
     "name": "stderr",
     "output_type": "stream",
     "text": [
      "No objective coefficients in model. Unclear what should be optimized\n"
     ]
    }
   ],
   "source": [
    "\"\"\"\n",
    "Read and prepare C4 model\n",
    "\"\"\"\n",
    "\n",
    "c4_model = read_sbml_model(\"c4_model.xml\")\n",
    "\n",
    "c4_model.solver = \"glpk\"\n",
    "\n",
    "c4_model.objective = '[B]_Maize_biomass_tx'\n",
    "\n",
    "\n",
    "def c4_maintenance(c4_model):\n",
    "    \n",
    "    #Constrains for light dependent maintenance costs\n",
    "    atp_b = c4_model.reactions.get_by_id(\"[B]_ATPase_tx\")\n",
    "    photon_b = c4_model.reactions.get_by_id(\"[B]_Photon_tx\")\n",
    "    atp_m = c4_model.reactions.get_by_id(\"[M]_ATPase_tx\")\n",
    "    photon_m = c4_model.reactions.get_by_id(\"[M]_Photon_tx\")\n",
    "\n",
    "    const_b = c4_model.problem.Constraint((0.0049 * photon_b.flux_expression + 2.7852) - atp_b.flux_expression , lb = 0, ub = 0)\n",
    "    c4_model.add_cons_vars(const_b)\n",
    "\n",
    "    const_m = c4_model.problem.Constraint((0.0049 * photon_m.flux_expression + 2.7852) - atp_m.flux_expression , lb = 0, ub = 0)\n",
    "    c4_model.add_cons_vars(const_m)\n",
    "    \n",
    "    # ATP/NADPH 3:1 constraints\n",
    "    const = c4_model.problem.Constraint(c4_model.reactions.get_by_id(\"[B]_ATPase_tx\").flux_expression -  3 * (c4_model.reactions.get_by_id(\"[B]_NADPHoxc_tx\").flux_expression + c4_model.reactions.get_by_id(\"[B]_NADPHoxp_tx\").flux_expression + c4_model.reactions.get_by_id(\"[B]_NADPHoxm_tx\").flux_expression) , lb = 0, ub = 0)\n",
    "    c4_model.add_cons_vars(const)\n",
    "\n",
    "    const = c4_model.problem.Constraint(c4_model.reactions.get_by_id(\"[M]_ATPase_tx\").flux_expression -  3 * (c4_model.reactions.get_by_id(\"[M]_NADPHoxc_tx\").flux_expression + c4_model.reactions.get_by_id(\"[M]_NADPHoxp_tx\").flux_expression + c4_model.reactions.get_by_id(\"[M]_NADPHoxm_tx\").flux_expression) , lb = 0, ub = 0)\n",
    "    c4_model.add_cons_vars(const)\n",
    "\n",
    "#Add Light dependent maintenance\n",
    "c4_maintenance(c4_model)"
   ]
  },
  {
   "cell_type": "code",
   "execution_count": 14,
   "metadata": {},
   "outputs": [
    {
     "data": {
      "text/html": [
       "\n",
       "        <table>\n",
       "            <tr>\n",
       "                <td><strong>Name</strong></td>\n",
       "                <td>c4_model</td>\n",
       "            </tr><tr>\n",
       "                <td><strong>Memory address</strong></td>\n",
       "                <td>0x01b88a4b46c8</td>\n",
       "            </tr><tr>\n",
       "                <td><strong>Number of metabolites</strong></td>\n",
       "                <td>1722</td>\n",
       "            </tr><tr>\n",
       "                <td><strong>Number of reactions</strong></td>\n",
       "                <td>1981</td>\n",
       "            </tr><tr>\n",
       "                <td><strong>Number of groups</strong></td>\n",
       "                <td>0</td>\n",
       "            </tr><tr>\n",
       "                <td><strong>Objective expression</strong></td>\n",
       "                <td>1.0*[B]_Maize_biomass_tx - 1.0*[B]_Maize_biomass_tx_reverse_fd280</td>\n",
       "            </tr><tr>\n",
       "                <td><strong>Compartments</strong></td>\n",
       "                <td>m, c, b, p, v, x, r, mi, mc, e, l, i</td>\n",
       "            </tr>\n",
       "          </table>"
      ],
      "text/plain": [
       "<Model c4_model at 0x1b88a4b46c8>"
      ]
     },
     "execution_count": 14,
     "metadata": {},
     "output_type": "execute_result"
    }
   ],
   "source": [
    "#Complete C4 model\n",
    "c4_model"
   ]
  },
  {
   "cell_type": "markdown",
   "metadata": {},
   "source": [
    "### Flux Balance Analysis"
   ]
  },
  {
   "cell_type": "code",
   "execution_count": 15,
   "metadata": {
    "pycharm": {
     "name": "#%%\n"
    }
   },
   "outputs": [],
   "source": [
    "\"\"\"\n",
    "Functions to perform a FBA defining limiting constrains of either light or nitrogen uptake\n",
    "\"\"\"\n",
    "\n",
    "def c3_simulation(light, N, c3_model):\n",
    "    with c3_model:\n",
    "        #Bounds for light\n",
    "        set_bounds('Photon_tx', (0, light), c3_model)\n",
    "        #Bounds for Nitrogen\n",
    "        set_bounds('Nitrate_tx', (0, N), c3_model)\n",
    "        #FBA\n",
    "        print(f'Arabidopsis C3 FBA: {c3_model.summary()}')\n",
    "\n",
    "def c4_simulation(light, N, c4_model):\n",
    "    with c4_model:\n",
    "        #Light Uptale constrain\n",
    "        B_Im_hnu = c4_model.reactions.get_by_id(\"[B]_Photon_tx\")\n",
    "        M_Im_hnu = c4_model.reactions.get_by_id(\"[M]_Photon_tx\")\n",
    "        \n",
    "        #CONSTRAINT: Total Photon uptake limited to \"light\" µE\n",
    "        const_hnu_sum = c4_model.problem.Constraint( B_Im_hnu.flux_expression + M_Im_hnu.flux_expression,\n",
    "                                                lb = 0, ub = light)\n",
    "        c4_model.add_cons_vars(const_hnu_sum)\n",
    "        \n",
    "        #CONSTRAINT: Total Photon uptake by bundle sheath must be less or equal than in mesophyll\n",
    "        const_hnu_ratio = c4_model.problem.Constraint( M_Im_hnu.flux_expression - B_Im_hnu.flux_expression,\n",
    "                                                lb = 0, ub = light)\n",
    "        c4_model.add_cons_vars(const_hnu_ratio)\n",
    "        \n",
    "        #CONSTRAINT : Total N uptake must not surpass defined upper bound\n",
    "        bs_n = c4_model.reactions.get_by_id(\"[B]_Nitrate_tx\")\n",
    "        m_n = c4_model.reactions.get_by_id(\"[M]_Nitrate_tx\")\n",
    "        \n",
    "        const_n_ratio = c4_model.problem.Constraint( bs_n.flux_expression + m_n.flux_expression,\n",
    "                                               lb = 0, ub = N)\n",
    "        c4_model.add_cons_vars(const_n_ratio)\n",
    "        \n",
    "        #FBA\n",
    "        print(f'Maize C4 FBA: {c4_model.summary()}')"
   ]
  },
  {
   "cell_type": "code",
   "execution_count": 16,
   "metadata": {},
   "outputs": [
    {
     "name": "stdout",
     "output_type": "stream",
     "text": [
      "Arabidopsis C3 FBA: Objective\n",
      "=========\n",
      "1.0 Arabidopsis_biomass_tx = 0.10657216597370205\n",
      "\n",
      "Uptake\n",
      "------\n",
      "       Metabolite       Reaction    Flux  C-Number   C-Flux\n",
      " CARBON_DIOXIDE_e         CO2_tx   53.87         1  100.00%\n",
      "          WATER_e         H2O_tx   46.43         0    0.00%\n",
      "        NITRATE_e     Nitrate_tx      10         0    0.00%\n",
      "         Photon_e      Photon_tx   894.9         0    0.00%\n",
      "             Pi_e          Pi_tx 0.03544         0    0.00%\n",
      "        SULFATE_e         SO4_tx  0.2508         0    0.00%\n",
      "         PROTON_c  unlProtHYPO_c   107.9         0    0.00%\n",
      "\n",
      "Secretion\n",
      "---------\n",
      "        Metabolite Reaction   Flux  C-Number C-Flux\n",
      " OXYGEN_MOLECULE_e    O2_tx -75.79         0  0.00%\n",
      "\n",
      "\n",
      "Maize C4 FBA: Objective\n",
      "=========\n",
      "1.0 [B]_Maize_biomass_tx = 0.11295139920930523\n",
      "\n",
      "Uptake\n",
      "------\n",
      "           Metabolite           Reaction   Flux  C-Number C-Flux\n",
      "        [B]_NITRATE_e     [B]_Nitrate_tx   5.71         0  0.00%\n",
      "         [B]_Photon_e      [B]_Photon_tx    500         0  0.00%\n",
      "        [B]_SULFATE_e         [B]_SO4_tx  0.163         0  0.00%\n",
      "         [B]_PROTON_c  [B]_unlProtHYPO_c  140.5         0  0.00%\n",
      " [M]_CARBON_DIOXIDE_e         [M]_CO2_tx  83.22         0  0.00%\n",
      "          [M]_WATER_e         [M]_H2O_tx  74.46         0  0.00%\n",
      "         [M]_Photon_e      [M]_Photon_tx    500         0  0.00%\n",
      "             [M]_Pi_e          [M]_Pi_tx 0.1232         0  0.00%\n",
      "         [M]_PROTON_c  [M]_unlProtHYPO_c  7.147         0  0.00%\n",
      "\n",
      "Secretion\n",
      "---------\n",
      "            Metabolite   Reaction   Flux  C-Number C-Flux\n",
      " [B]_OXYGEN_MOLECULE_e  [B]_O2_tx -41.17         0  0.00%\n",
      " [M]_OXYGEN_MOLECULE_e  [M]_O2_tx -56.97         0  0.00%\n",
      "\n"
     ]
    }
   ],
   "source": [
    "#Running simulations\n",
    "\n",
    "c3_simulation(1000, 10 , c3_model)\n",
    "\n",
    "print()\n",
    "\n",
    "c4_simulation(1000,10,c4_model)"
   ]
  }
 ],
 "metadata": {
  "kernelspec": {
   "display_name": "Python 3",
   "language": "python",
   "name": "python3"
  },
  "language_info": {
   "codemirror_mode": {
    "name": "ipython",
    "version": 3
   },
   "file_extension": ".py",
   "mimetype": "text/x-python",
   "name": "python",
   "nbconvert_exporter": "python",
   "pygments_lexer": "ipython3",
   "version": "3.7.9"
  }
 },
 "nbformat": 4,
 "nbformat_minor": 1
}
