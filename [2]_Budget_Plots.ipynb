{
 "cells": [
  {
   "cell_type": "markdown",
   "metadata": {},
   "source": [
    "# Construct Budget Plots\n",
    "\n",
    "A Budget plot was constructed for the analysis of the carbon dioxide (CO2) consuming and producing reactions in the Bundle Sheat cell in the previously constructed Maize C4 model"
   ]
  },
  {
   "cell_type": "markdown",
   "metadata": {},
   "source": [
    "## Imports"
   ]
  },
  {
   "cell_type": "code",
   "execution_count": 1,
   "metadata": {},
   "outputs": [],
   "source": [
    "from cobra.io import read_sbml_model\n",
    "from cobra import flux_analysis\n",
    "import pandas as pd"
   ]
  },
  {
   "cell_type": "markdown",
   "metadata": {},
   "source": [
    "## Reading the models and applying maintenance and Rubisco constrains"
   ]
  },
  {
   "cell_type": "code",
   "execution_count": 2,
   "metadata": {
    "pycharm": {
     "name": "#%%\n"
    }
   },
   "outputs": [
    {
     "name": "stderr",
     "output_type": "stream",
     "text": [
      "No objective coefficients in model. Unclear what should be optimized\n"
     ]
    }
   ],
   "source": [
    "\"\"\"\n",
    "Read and prepare C4 model\n",
    "\"\"\"\n",
    "\n",
    "c4_model = read_sbml_model(\"c4_model.xml\")\n",
    "\n",
    "c4_model.solver = \"glpk\"\n",
    "\n",
    "c4_model.objective = '[B]_Maize_biomass_tx'\n",
    "\n",
    "\n",
    "def c4_maintenance(c4_model):\n",
    "    #Constrains for light dependent maintenance costs\n",
    "    atp_b = c4_model.reactions.get_by_id(\"[B]_ATPase_tx\")\n",
    "    photon_b = c4_model.reactions.get_by_id(\"[B]_Photon_tx\")\n",
    "    atp_m = c4_model.reactions.get_by_id(\"[M]_ATPase_tx\")\n",
    "    photon_m = c4_model.reactions.get_by_id(\"[M]_Photon_tx\")\n",
    "\n",
    "    const_b = c4_model.problem.Constraint((0.0049 * photon_b.flux_expression + 2.7852) - atp_b.flux_expression , lb = 0, ub = 0)\n",
    "    c4_model.add_cons_vars(const_b)\n",
    "\n",
    "    const_m = c4_model.problem.Constraint((0.0049 * photon_m.flux_expression + 2.7852) - atp_m.flux_expression , lb = 0, ub = 0)\n",
    "    c4_model.add_cons_vars(const_m)\n",
    "    # ATP/NADPH 3:1 constraints\n",
    "    const = c4_model.problem.Constraint(c4_model.reactions.get_by_id(\"[B]_ATPase_tx\").flux_expression -  3 * (c4_model.reactions.get_by_id(\"[B]_NADPHoxc_tx\").flux_expression + c4_model.reactions.get_by_id(\"[B]_NADPHoxp_tx\").flux_expression + c4_model.reactions.get_by_id(\"[B]_NADPHoxm_tx\").flux_expression) , lb = 0, ub = 0)\n",
    "    c4_model.add_cons_vars(const)\n",
    "\n",
    "    const = c4_model.problem.Constraint(c4_model.reactions.get_by_id(\"[M]_ATPase_tx\").flux_expression -  3 * (c4_model.reactions.get_by_id(\"[M]_NADPHoxc_tx\").flux_expression + c4_model.reactions.get_by_id(\"[M]_NADPHoxp_tx\").flux_expression + c4_model.reactions.get_by_id(\"[M]_NADPHoxm_tx\").flux_expression) , lb = 0, ub = 0)\n",
    "    c4_model.add_cons_vars(const)\n",
    "\n",
    "#Add Light dependent maintenance\n",
    "c4_maintenance(c4_model)"
   ]
  },
  {
   "cell_type": "markdown",
   "metadata": {},
   "source": [
    "## Using pFBA"
   ]
  },
  {
   "cell_type": "code",
   "execution_count": 3,
   "metadata": {
    "pycharm": {
     "name": "#%%\n"
    }
   },
   "outputs": [
    {
     "name": "stdout",
     "output_type": "stream",
     "text": [
      "Maize C4 FBA: Objective\n",
      "=========\n",
      "1.0 [B]_Maize_biomass_tx = 0.00395616383377282\n",
      "\n",
      "Uptake\n",
      "------\n",
      "           Metabolite           Reaction     Flux  C-Number C-Flux\n",
      "        [B]_NITRATE_e     [B]_Nitrate_tx  0.03629         0  0.00%\n",
      "         [B]_Photon_e      [B]_Photon_tx    22.54         0  0.00%\n",
      "             [B]_Pi_e          [B]_Pi_tx 0.004315         0  0.00%\n",
      "         [B]_PROTON_c  [B]_unlProtHYPO_c    6.311         0  0.00%\n",
      " [M]_CARBON_DIOXIDE_e         [M]_CO2_tx    2.915         0  0.00%\n",
      "          [M]_WATER_e         [M]_H2O_tx    2.608         0  0.00%\n",
      "        [M]_NITRATE_e     [M]_Nitrate_tx   0.1637         0  0.00%\n",
      "         [M]_Photon_e      [M]_Photon_tx    22.54         0  0.00%\n",
      "        [M]_SULFATE_e         [M]_SO4_tx  0.00571         0  0.00%\n",
      "         [M]_PROTON_c  [M]_unlProtHYPO_c   0.6647         0  0.00%\n",
      "\n",
      "Secretion\n",
      "---------\n",
      "            Metabolite   Reaction   Flux  C-Number C-Flux\n",
      " [B]_OXYGEN_MOLECULE_e  [B]_O2_tx -1.454         0  0.00%\n",
      " [M]_OXYGEN_MOLECULE_e  [M]_O2_tx -1.983         0  0.00%\n",
      "\n"
     ]
    }
   ],
   "source": [
    "\"\"\"\n",
    "Function to perform the simulation: We will end with a pandas dataframe that we will use to construct the plots \n",
    "\"\"\"\n",
    "\n",
    "\n",
    "def c4_simulation(light, N, c4_model):\n",
    "    ##C4\n",
    "    with c4_model:\n",
    "        #Light Uptale constrain\n",
    "        B_Im_hnu = c4_model.reactions.get_by_id(\"[B]_Photon_tx\")\n",
    "        M_Im_hnu = c4_model.reactions.get_by_id(\"[M]_Photon_tx\")\n",
    "        #CONSTRAINT: Total Photon uptake limited to \"light\" µE\n",
    "        const_hnu_sum = c4_model.problem.Constraint( B_Im_hnu.flux_expression + M_Im_hnu.flux_expression,\n",
    "                                                lb = 0, ub = light)\n",
    "        c4_model.add_cons_vars(const_hnu_sum)\n",
    "        #CONSTRAINT: Total Photon uptake by bundle sheath must be less or equal than in mesophyll\n",
    "        const_hnu_ratio = c4_model.problem.Constraint( M_Im_hnu.flux_expression - B_Im_hnu.flux_expression,\n",
    "                                                lb = 0, ub = light)\n",
    "        c4_model.add_cons_vars(const_hnu_ratio)\n",
    "        #CONSTRAINT : Total N uptake must not surpass defined upper bound\n",
    "        m_n = c4_model.reactions.get_by_id(\"[B]_Nitrate_tx\")\n",
    "        bs_n = c4_model.reactions.get_by_id(\"[M]_Nitrate_tx\")\n",
    "        const_n_ratio = c4_model.problem.Constraint( bs_n.flux_expression + m_n.flux_expression,\n",
    "                                               lb = 0, ub = N)\n",
    "        c4_model.add_cons_vars(const_n_ratio)\n",
    "        #FBA\n",
    "        print(f'Maize C4 FBA: {c4_model.summary()}')\n",
    "        #pFBA\n",
    "        solution = flux_analysis.pfba(c4_model)\n",
    "        sum_of_flux = solution.fluxes.abs().sum()\n",
    "        solution_frame=solution.to_frame()\n",
    "        return solution_frame\n",
    "\n",
    "#Definig limiting constrains: max of 100 μmol \"light\" uptake and 0.2 μmol nitrogen uptake\n",
    "solution_frame=c4_simulation(100, .2, c4_model)"
   ]
  },
  {
   "cell_type": "markdown",
   "metadata": {},
   "source": [
    "## Preparing data and plotting\n",
    "\n",
    "For the presented Budget plot we searched for CO2 consuming and producing reactions in the BS cell in the C4 model. Following this logic, transport reactions of CO2 were not considered, and so we expect the flux through consuming reactions to be equal to producing reactions."
   ]
  },
  {
   "cell_type": "code",
   "execution_count": 4,
   "metadata": {
    "pycharm": {
     "name": "#%%\n"
    }
   },
   "outputs": [
    {
     "data": {
      "text/plain": [
       "[<Metabolite [B]_CARBON_DIOXIDE_x at 0x2a25160f1c8>,\n",
       " <Metabolite [B]_CARBON_DIOXIDE_p at 0x2a25160f748>,\n",
       " <Metabolite [B]_CARBON_DIOXIDE_m at 0x2a25160f948>,\n",
       " <Metabolite [B]_CARBON_DIOXIDE_e at 0x2a251615308>,\n",
       " <Metabolite [B]_CARBON_DIOXIDE_c at 0x2a251615408>]"
      ]
     },
     "execution_count": 4,
     "metadata": {},
     "output_type": "execute_result"
    }
   ],
   "source": [
    "#Defining the list of metabolites to search\n",
    "budget_metabolites = []\n",
    "\n",
    "#Defining the compartments within the model\n",
    "compartment = [\"_c\", \"_m\", \"_p\", \"_x\", \"_e\", \"tx\"]\n",
    "\n",
    "#Searching for the metabolites in the model - Searching for CO2 in the BS cell\n",
    "for met in c4_model.metabolites.query(\"CARBON_DIOXIDE_\"):\n",
    "    if met.id[:3] == \"[B]\":\n",
    "        budget_metabolites.append(met)\n",
    "\n",
    "budget_metabolites"
   ]
  },
  {
   "cell_type": "code",
   "execution_count": 5,
   "metadata": {
    "pycharm": {
     "name": "#%%\n"
    }
   },
   "outputs": [],
   "source": [
    "\"\"\"\n",
    "Define consuming and producing reactions\n",
    "\"\"\"\n",
    "\n",
    "#Defining list of reactions producing and consuming the metabolite\n",
    "consumers = []\n",
    "producers = []\n",
    "\n",
    "#Add reactions to respective list and exclude transport reactions\n",
    "for met in budget_metabolites:\n",
    "    for reaction in c4_model.reactions:\n",
    "        if met in reaction.reactants and reaction.id[-2:] in compartment:\n",
    "            consumers.append(reaction.id)\n",
    "        elif met in reaction.products and reaction.id[-2:] in compartment:\n",
    "            producers.append(reaction.id)"
   ]
  },
  {
   "cell_type": "code",
   "execution_count": 6,
   "metadata": {
    "pycharm": {
     "name": "#%%\n"
    }
   },
   "outputs": [],
   "source": [
    "\"\"\"\n",
    "Correct consumption/production with regards to directionality\n",
    "\"\"\"\n",
    "\n",
    "#Get flux values from the simulation for metabolite consuming/producing reactions\n",
    "producers_df = solution_frame.loc[producers,:]\n",
    "consumers_df = solution_frame.loc[consumers,:]\n",
    "\n",
    "#Get values with negative flows: producing reactions with negative flow are consuming and vice-versa\n",
    "negative_producers = list(producers_df[producers_df[\"fluxes\"] < 0].index)\n",
    "negative_consumers = list(consumers_df[consumers_df[\"fluxes\"] < 0].index)\n",
    "\n",
    "\n",
    "#Add reactions to correct list\n",
    "consumers.extend(negative_producers)\n",
    "producers.extend(negative_consumers)\n",
    "\n",
    "#Remove reactions with negative flux from old list\n",
    "def remove_items(test_list, item):\n",
    "    res = [i for i in test_list if i != item]\n",
    "    return res\n",
    "\n",
    "for item in negative_producers:\n",
    "    producers = remove_items(producers, item)\n",
    "\n",
    "for item in negative_consumers:\n",
    "    consumers = remove_items(consumers, item)"
   ]
  },
  {
   "cell_type": "code",
   "execution_count": 7,
   "metadata": {
    "pycharm": {
     "name": "#%%\n"
    }
   },
   "outputs": [
    {
     "data": {
      "text/html": [
       "<div>\n",
       "<style scoped>\n",
       "    .dataframe tbody tr th:only-of-type {\n",
       "        vertical-align: middle;\n",
       "    }\n",
       "\n",
       "    .dataframe tbody tr th {\n",
       "        vertical-align: top;\n",
       "    }\n",
       "\n",
       "    .dataframe thead th {\n",
       "        text-align: right;\n",
       "    }\n",
       "</style>\n",
       "<table border=\"1\" class=\"dataframe\">\n",
       "  <thead>\n",
       "    <tr style=\"text-align: right;\">\n",
       "      <th></th>\n",
       "      <th>fluxes</th>\n",
       "      <th>reduced_costs</th>\n",
       "    </tr>\n",
       "  </thead>\n",
       "  <tbody>\n",
       "    <tr>\n",
       "      <th>[B]_DIAMINOPIMDECARB_RXN_p</th>\n",
       "      <td>0.006534</td>\n",
       "      <td>-2.0</td>\n",
       "    </tr>\n",
       "    <tr>\n",
       "      <th>[B]_IGPSYN_RXN_p</th>\n",
       "      <td>0.001098</td>\n",
       "      <td>-2.0</td>\n",
       "    </tr>\n",
       "    <tr>\n",
       "      <th>[B]_ACETOOHBUTSYN_RXN_p</th>\n",
       "      <td>0.006424</td>\n",
       "      <td>-2.0</td>\n",
       "    </tr>\n",
       "    <tr>\n",
       "      <th>[B]_MALIC_NADP_RXN_p</th>\n",
       "      <td>2.715096</td>\n",
       "      <td>-2.0</td>\n",
       "    </tr>\n",
       "    <tr>\n",
       "      <th>[B]_RXN_7800_p</th>\n",
       "      <td>0.013232</td>\n",
       "      <td>-2.0</td>\n",
       "    </tr>\n",
       "    <tr>\n",
       "      <th>[B]_ACETOLACTSYN_RXN_p</th>\n",
       "      <td>0.024378</td>\n",
       "      <td>-2.0</td>\n",
       "    </tr>\n",
       "    <tr>\n",
       "      <th>[B]_PREPHENATE_DEHYDROGENASE_NADP_RXN_p</th>\n",
       "      <td>0.002635</td>\n",
       "      <td>-2.0</td>\n",
       "    </tr>\n",
       "    <tr>\n",
       "      <th>[B]_OROTPDECARB_RXN_p</th>\n",
       "      <td>0.000752</td>\n",
       "      <td>-2.0</td>\n",
       "    </tr>\n",
       "    <tr>\n",
       "      <th>[B]_CARBOXYCYCLOHEXADIENYL_DEHYDRATASE_RXN_p</th>\n",
       "      <td>0.004392</td>\n",
       "      <td>-2.0</td>\n",
       "    </tr>\n",
       "    <tr>\n",
       "      <th>[B]_ISOCITRATE_DEHYDROGENASE_NAD_RXN_m</th>\n",
       "      <td>0.023230</td>\n",
       "      <td>-2.0</td>\n",
       "    </tr>\n",
       "    <tr>\n",
       "      <th>[B]_ISOCITDEH_RXN_m</th>\n",
       "      <td>0.000269</td>\n",
       "      <td>-2.0</td>\n",
       "    </tr>\n",
       "    <tr>\n",
       "      <th>[B]_PYRUVDEH_RXN_m</th>\n",
       "      <td>0.030801</td>\n",
       "      <td>-2.0</td>\n",
       "    </tr>\n",
       "    <tr>\n",
       "      <th>[B]_GCVMULTI_RXN_m</th>\n",
       "      <td>0.053872</td>\n",
       "      <td>-2.0</td>\n",
       "    </tr>\n",
       "    <tr>\n",
       "      <th>[B]_ISOCITDEH_RXN_c</th>\n",
       "      <td>0.004832</td>\n",
       "      <td>-2.0</td>\n",
       "    </tr>\n",
       "  </tbody>\n",
       "</table>\n",
       "</div>"
      ],
      "text/plain": [
       "                                                fluxes  reduced_costs\n",
       "[B]_DIAMINOPIMDECARB_RXN_p                    0.006534           -2.0\n",
       "[B]_IGPSYN_RXN_p                              0.001098           -2.0\n",
       "[B]_ACETOOHBUTSYN_RXN_p                       0.006424           -2.0\n",
       "[B]_MALIC_NADP_RXN_p                          2.715096           -2.0\n",
       "[B]_RXN_7800_p                                0.013232           -2.0\n",
       "[B]_ACETOLACTSYN_RXN_p                        0.024378           -2.0\n",
       "[B]_PREPHENATE_DEHYDROGENASE_NADP_RXN_p       0.002635           -2.0\n",
       "[B]_OROTPDECARB_RXN_p                         0.000752           -2.0\n",
       "[B]_CARBOXYCYCLOHEXADIENYL_DEHYDRATASE_RXN_p  0.004392           -2.0\n",
       "[B]_ISOCITRATE_DEHYDROGENASE_NAD_RXN_m        0.023230           -2.0\n",
       "[B]_ISOCITDEH_RXN_m                           0.000269           -2.0\n",
       "[B]_PYRUVDEH_RXN_m                            0.030801           -2.0\n",
       "[B]_GCVMULTI_RXN_m                            0.053872           -2.0\n",
       "[B]_ISOCITDEH_RXN_c                           0.004832           -2.0"
      ]
     },
     "execution_count": 7,
     "metadata": {},
     "output_type": "execute_result"
    }
   ],
   "source": [
    "\"\"\"\n",
    "Get producing reactions and fluxes\n",
    "\"\"\"\n",
    "\n",
    "#Get flux values from the simulation for metabolite consuming/producing reactions (correct list)\n",
    "producers_df = solution_frame.loc[producers,:]\n",
    "#Make all values positive (disregard directionality)\n",
    "producers_df[\"fluxes\"] = producers_df[\"fluxes\"].abs()\n",
    "#Remove reactions with zero flux\n",
    "producers_df = producers_df[(producers_df.T != 0).all()]\n",
    "producers_df"
   ]
  },
  {
   "cell_type": "code",
   "execution_count": 8,
   "metadata": {
    "pycharm": {
     "name": "#%%\n"
    }
   },
   "outputs": [
    {
     "data": {
      "text/html": [
       "<div>\n",
       "<style scoped>\n",
       "    .dataframe tbody tr th:only-of-type {\n",
       "        vertical-align: middle;\n",
       "    }\n",
       "\n",
       "    .dataframe tbody tr th {\n",
       "        vertical-align: top;\n",
       "    }\n",
       "\n",
       "    .dataframe thead th {\n",
       "        text-align: right;\n",
       "    }\n",
       "</style>\n",
       "<table border=\"1\" class=\"dataframe\">\n",
       "  <thead>\n",
       "    <tr style=\"text-align: right;\">\n",
       "      <th></th>\n",
       "      <th>fluxes</th>\n",
       "      <th>reduced_costs</th>\n",
       "    </tr>\n",
       "  </thead>\n",
       "  <tbody>\n",
       "    <tr>\n",
       "      <th>[B]_RIBULOSE_BISPHOSPHATE_CARBOXYLASE_RXN_p</th>\n",
       "      <td>2.887073</td>\n",
       "      <td>-2.0</td>\n",
       "    </tr>\n",
       "    <tr>\n",
       "      <th>[B]_RXN0_5224_p</th>\n",
       "      <td>0.000472</td>\n",
       "      <td>-2.0</td>\n",
       "    </tr>\n",
       "  </tbody>\n",
       "</table>\n",
       "</div>"
      ],
      "text/plain": [
       "                                               fluxes  reduced_costs\n",
       "[B]_RIBULOSE_BISPHOSPHATE_CARBOXYLASE_RXN_p  2.887073           -2.0\n",
       "[B]_RXN0_5224_p                              0.000472           -2.0"
      ]
     },
     "execution_count": 8,
     "metadata": {},
     "output_type": "execute_result"
    }
   ],
   "source": [
    "\"\"\"\n",
    "Get consuming reactions and fluxes\n",
    "\"\"\"\n",
    "\n",
    "#Get flux values from the simulation for metabolite consuming/producing reactions (correct list)\n",
    "consumers_df = solution_frame.loc[consumers,:]\n",
    "#Make all values positive (disregard directionality)\n",
    "consumers_df[\"fluxes\"]  = consumers_df[\"fluxes\"].abs()\n",
    "#Remove reactions with zero flux\n",
    "consumers_df = consumers_df[(consumers_df.T != 0).all()]\n",
    "consumers_df\n"
   ]
  },
  {
   "cell_type": "code",
   "execution_count": 9,
   "metadata": {
    "pycharm": {
     "name": "#%%\n"
    }
   },
   "outputs": [
    {
     "name": "stdout",
     "output_type": "stream",
     "text": [
      "Sum of consumer fluxes: 2.887545391905673\n",
      "Sum of producer fluxes: 2.887545391905673\n"
     ]
    }
   ],
   "source": [
    "\"\"\"\n",
    "Fluxes in consumption and production should be equal\n",
    "\"\"\"\n",
    "\n",
    "#Sum the flux values\n",
    "print(\"Sum of consumer fluxes: {}\".format(consumers_df [\"fluxes\"].sum(axis=0)))\n",
    "print(\"Sum of producer fluxes: {}\".format(producers_df [\"fluxes\"].sum(axis=0)))"
   ]
  },
  {
   "cell_type": "markdown",
   "metadata": {},
   "source": [
    "As expected, the sum of the fluxes of the CO2 consuming reactions is equal to the sum of CO2 producing reactions in the bundle sheat cell."
   ]
  },
  {
   "cell_type": "code",
   "execution_count": 10,
   "metadata": {
    "pycharm": {
     "name": "#%%\n"
    }
   },
   "outputs": [
    {
     "data": {
      "text/html": [
       "<div>\n",
       "<style scoped>\n",
       "    .dataframe tbody tr th:only-of-type {\n",
       "        vertical-align: middle;\n",
       "    }\n",
       "\n",
       "    .dataframe tbody tr th {\n",
       "        vertical-align: top;\n",
       "    }\n",
       "\n",
       "    .dataframe thead th {\n",
       "        text-align: right;\n",
       "    }\n",
       "</style>\n",
       "<table border=\"1\" class=\"dataframe\">\n",
       "  <thead>\n",
       "    <tr style=\"text-align: right;\">\n",
       "      <th></th>\n",
       "      <th>fluxes</th>\n",
       "      <th>reduced_costs</th>\n",
       "      <th>Status</th>\n",
       "      <th>label</th>\n",
       "    </tr>\n",
       "  </thead>\n",
       "  <tbody>\n",
       "    <tr>\n",
       "      <th>[B]_DIAMINOPIMDECARB_RXN_p</th>\n",
       "      <td>0.006534</td>\n",
       "      <td>-2.0</td>\n",
       "      <td>Producer</td>\n",
       "      <td>[B]_DIAMINOPIMDECARB_RXN_p</td>\n",
       "    </tr>\n",
       "    <tr>\n",
       "      <th>[B]_IGPSYN_RXN_p</th>\n",
       "      <td>0.001098</td>\n",
       "      <td>-2.0</td>\n",
       "      <td>Producer</td>\n",
       "      <td>[B]_IGPSYN_RXN_p</td>\n",
       "    </tr>\n",
       "    <tr>\n",
       "      <th>[B]_ACETOOHBUTSYN_RXN_p</th>\n",
       "      <td>0.006424</td>\n",
       "      <td>-2.0</td>\n",
       "      <td>Producer</td>\n",
       "      <td>[B]_ACETOOHBUTSYN_RXN_p</td>\n",
       "    </tr>\n",
       "    <tr>\n",
       "      <th>[B]_MALIC_NADP_RXN_p</th>\n",
       "      <td>2.715096</td>\n",
       "      <td>-2.0</td>\n",
       "      <td>Producer</td>\n",
       "      <td>[B]_MALIC_NADP_RXN_p</td>\n",
       "    </tr>\n",
       "    <tr>\n",
       "      <th>[B]_RXN_7800_p</th>\n",
       "      <td>0.013232</td>\n",
       "      <td>-2.0</td>\n",
       "      <td>Producer</td>\n",
       "      <td>[B]_RXN_7800_p</td>\n",
       "    </tr>\n",
       "    <tr>\n",
       "      <th>[B]_ACETOLACTSYN_RXN_p</th>\n",
       "      <td>0.024378</td>\n",
       "      <td>-2.0</td>\n",
       "      <td>Producer</td>\n",
       "      <td>[B]_ACETOLACTSYN_RXN_p</td>\n",
       "    </tr>\n",
       "    <tr>\n",
       "      <th>[B]_PREPHENATE_DEHYDROGENASE_NADP_RXN_p</th>\n",
       "      <td>0.002635</td>\n",
       "      <td>-2.0</td>\n",
       "      <td>Producer</td>\n",
       "      <td>[B]_PREPHENATE_DEHYDROGENASE_NADP_RXN_p</td>\n",
       "    </tr>\n",
       "    <tr>\n",
       "      <th>[B]_OROTPDECARB_RXN_p</th>\n",
       "      <td>0.000752</td>\n",
       "      <td>-2.0</td>\n",
       "      <td>Producer</td>\n",
       "      <td>[B]_OROTPDECARB_RXN_p</td>\n",
       "    </tr>\n",
       "    <tr>\n",
       "      <th>[B]_CARBOXYCYCLOHEXADIENYL_DEHYDRATASE_RXN_p</th>\n",
       "      <td>0.004392</td>\n",
       "      <td>-2.0</td>\n",
       "      <td>Producer</td>\n",
       "      <td>[B]_CARBOXYCYCLOHEXADIENYL_DEHYDRATASE_RXN_p</td>\n",
       "    </tr>\n",
       "    <tr>\n",
       "      <th>[B]_ISOCITRATE_DEHYDROGENASE_NAD_RXN_m</th>\n",
       "      <td>0.023230</td>\n",
       "      <td>-2.0</td>\n",
       "      <td>Producer</td>\n",
       "      <td>[B]_ISOCITRATE_DEHYDROGENASE_NAD_RXN_m</td>\n",
       "    </tr>\n",
       "    <tr>\n",
       "      <th>[B]_ISOCITDEH_RXN_m</th>\n",
       "      <td>0.000269</td>\n",
       "      <td>-2.0</td>\n",
       "      <td>Producer</td>\n",
       "      <td>[B]_ISOCITDEH_RXN_m</td>\n",
       "    </tr>\n",
       "    <tr>\n",
       "      <th>[B]_PYRUVDEH_RXN_m</th>\n",
       "      <td>0.030801</td>\n",
       "      <td>-2.0</td>\n",
       "      <td>Producer</td>\n",
       "      <td>[B]_PYRUVDEH_RXN_m</td>\n",
       "    </tr>\n",
       "    <tr>\n",
       "      <th>[B]_GCVMULTI_RXN_m</th>\n",
       "      <td>0.053872</td>\n",
       "      <td>-2.0</td>\n",
       "      <td>Producer</td>\n",
       "      <td>[B]_GCVMULTI_RXN_m</td>\n",
       "    </tr>\n",
       "    <tr>\n",
       "      <th>[B]_ISOCITDEH_RXN_c</th>\n",
       "      <td>0.004832</td>\n",
       "      <td>-2.0</td>\n",
       "      <td>Producer</td>\n",
       "      <td>[B]_ISOCITDEH_RXN_c</td>\n",
       "    </tr>\n",
       "    <tr>\n",
       "      <th>[B]_RIBULOSE_BISPHOSPHATE_CARBOXYLASE_RXN_p</th>\n",
       "      <td>2.887073</td>\n",
       "      <td>-2.0</td>\n",
       "      <td>Consumer</td>\n",
       "      <td>[B]_RIBULOSE_BISPHOSPHATE_CARBOXYLASE_RXN_p</td>\n",
       "    </tr>\n",
       "    <tr>\n",
       "      <th>[B]_RXN0_5224_p</th>\n",
       "      <td>0.000472</td>\n",
       "      <td>-2.0</td>\n",
       "      <td>Consumer</td>\n",
       "      <td>[B]_RXN0_5224_p</td>\n",
       "    </tr>\n",
       "  </tbody>\n",
       "</table>\n",
       "</div>"
      ],
      "text/plain": [
       "                                                fluxes  reduced_costs  \\\n",
       "[B]_DIAMINOPIMDECARB_RXN_p                    0.006534           -2.0   \n",
       "[B]_IGPSYN_RXN_p                              0.001098           -2.0   \n",
       "[B]_ACETOOHBUTSYN_RXN_p                       0.006424           -2.0   \n",
       "[B]_MALIC_NADP_RXN_p                          2.715096           -2.0   \n",
       "[B]_RXN_7800_p                                0.013232           -2.0   \n",
       "[B]_ACETOLACTSYN_RXN_p                        0.024378           -2.0   \n",
       "[B]_PREPHENATE_DEHYDROGENASE_NADP_RXN_p       0.002635           -2.0   \n",
       "[B]_OROTPDECARB_RXN_p                         0.000752           -2.0   \n",
       "[B]_CARBOXYCYCLOHEXADIENYL_DEHYDRATASE_RXN_p  0.004392           -2.0   \n",
       "[B]_ISOCITRATE_DEHYDROGENASE_NAD_RXN_m        0.023230           -2.0   \n",
       "[B]_ISOCITDEH_RXN_m                           0.000269           -2.0   \n",
       "[B]_PYRUVDEH_RXN_m                            0.030801           -2.0   \n",
       "[B]_GCVMULTI_RXN_m                            0.053872           -2.0   \n",
       "[B]_ISOCITDEH_RXN_c                           0.004832           -2.0   \n",
       "[B]_RIBULOSE_BISPHOSPHATE_CARBOXYLASE_RXN_p   2.887073           -2.0   \n",
       "[B]_RXN0_5224_p                               0.000472           -2.0   \n",
       "\n",
       "                                                Status  \\\n",
       "[B]_DIAMINOPIMDECARB_RXN_p                    Producer   \n",
       "[B]_IGPSYN_RXN_p                              Producer   \n",
       "[B]_ACETOOHBUTSYN_RXN_p                       Producer   \n",
       "[B]_MALIC_NADP_RXN_p                          Producer   \n",
       "[B]_RXN_7800_p                                Producer   \n",
       "[B]_ACETOLACTSYN_RXN_p                        Producer   \n",
       "[B]_PREPHENATE_DEHYDROGENASE_NADP_RXN_p       Producer   \n",
       "[B]_OROTPDECARB_RXN_p                         Producer   \n",
       "[B]_CARBOXYCYCLOHEXADIENYL_DEHYDRATASE_RXN_p  Producer   \n",
       "[B]_ISOCITRATE_DEHYDROGENASE_NAD_RXN_m        Producer   \n",
       "[B]_ISOCITDEH_RXN_m                           Producer   \n",
       "[B]_PYRUVDEH_RXN_m                            Producer   \n",
       "[B]_GCVMULTI_RXN_m                            Producer   \n",
       "[B]_ISOCITDEH_RXN_c                           Producer   \n",
       "[B]_RIBULOSE_BISPHOSPHATE_CARBOXYLASE_RXN_p   Consumer   \n",
       "[B]_RXN0_5224_p                               Consumer   \n",
       "\n",
       "                                                                                     label  \n",
       "[B]_DIAMINOPIMDECARB_RXN_p                                      [B]_DIAMINOPIMDECARB_RXN_p  \n",
       "[B]_IGPSYN_RXN_p                                                          [B]_IGPSYN_RXN_p  \n",
       "[B]_ACETOOHBUTSYN_RXN_p                                            [B]_ACETOOHBUTSYN_RXN_p  \n",
       "[B]_MALIC_NADP_RXN_p                                                  [B]_MALIC_NADP_RXN_p  \n",
       "[B]_RXN_7800_p                                                              [B]_RXN_7800_p  \n",
       "[B]_ACETOLACTSYN_RXN_p                                              [B]_ACETOLACTSYN_RXN_p  \n",
       "[B]_PREPHENATE_DEHYDROGENASE_NADP_RXN_p            [B]_PREPHENATE_DEHYDROGENASE_NADP_RXN_p  \n",
       "[B]_OROTPDECARB_RXN_p                                                [B]_OROTPDECARB_RXN_p  \n",
       "[B]_CARBOXYCYCLOHEXADIENYL_DEHYDRATASE_RXN_p  [B]_CARBOXYCYCLOHEXADIENYL_DEHYDRATASE_RXN_p  \n",
       "[B]_ISOCITRATE_DEHYDROGENASE_NAD_RXN_m              [B]_ISOCITRATE_DEHYDROGENASE_NAD_RXN_m  \n",
       "[B]_ISOCITDEH_RXN_m                                                    [B]_ISOCITDEH_RXN_m  \n",
       "[B]_PYRUVDEH_RXN_m                                                      [B]_PYRUVDEH_RXN_m  \n",
       "[B]_GCVMULTI_RXN_m                                                      [B]_GCVMULTI_RXN_m  \n",
       "[B]_ISOCITDEH_RXN_c                                                    [B]_ISOCITDEH_RXN_c  \n",
       "[B]_RIBULOSE_BISPHOSPHATE_CARBOXYLASE_RXN_p    [B]_RIBULOSE_BISPHOSPHATE_CARBOXYLASE_RXN_p  \n",
       "[B]_RXN0_5224_p                                                            [B]_RXN0_5224_p  "
      ]
     },
     "execution_count": 10,
     "metadata": {},
     "output_type": "execute_result"
    }
   ],
   "source": [
    "\"\"\"\n",
    "Concatenate producer and consumer dataframes\n",
    "\"\"\"\n",
    "\n",
    "producers_df[\"Status\"] = \"Producer\"\n",
    "consumers_df[\"Status\"] = \"Consumer\"\n",
    "\n",
    "frame = [producers_df, consumers_df]\n",
    "\n",
    "all_reactions = pd.concat(frame)\n",
    "\n",
    "all_reactions[\"label\"] = all_reactions.index\n",
    "\n",
    "all_reactions"
   ]
  },
  {
   "cell_type": "code",
   "execution_count": 11,
   "metadata": {
    "pycharm": {
     "name": "#%%\n"
    }
   },
   "outputs": [],
   "source": [
    "\"\"\"\n",
    "Pick the colors - using random for color selection and using set.seed for reproducibility\n",
    "\"\"\"\n",
    "\n",
    "import random\n",
    "import matplotlib.pyplot as plt\n",
    "\n",
    "\n",
    "#Defining the nº of colors\n",
    "number_of_colors = len(all_reactions.index)\n",
    "\n",
    "#Getting a list of colors\n",
    "random.seed(177)\n",
    "color = [\"#\"+''.join([random.choice('0123456789ABCDEF') for j in range(6)])\n",
    "             for i in range(number_of_colors)]\n",
    "\n",
    "#Getting list of reactions\n",
    "reaction_list = list(all_reactions.index)\n",
    "\n",
    "#Build color dictionary\n",
    "color_dict = {}\n",
    "for i in range(len(reaction_list)):\n",
    "    color_dict[reaction_list[i]] = color[i]\n",
    "\n"
   ]
  },
  {
   "cell_type": "code",
   "execution_count": 12,
   "metadata": {
    "pycharm": {
     "name": "#%%\n"
    }
   },
   "outputs": [
    {
     "data": {
      "text/html": [
       "<div>\n",
       "<style scoped>\n",
       "    .dataframe tbody tr th:only-of-type {\n",
       "        vertical-align: middle;\n",
       "    }\n",
       "\n",
       "    .dataframe tbody tr th {\n",
       "        vertical-align: top;\n",
       "    }\n",
       "\n",
       "    .dataframe thead th {\n",
       "        text-align: right;\n",
       "    }\n",
       "</style>\n",
       "<table border=\"1\" class=\"dataframe\">\n",
       "  <thead>\n",
       "    <tr style=\"text-align: right;\">\n",
       "      <th>label</th>\n",
       "      <th>[B]_ACETOLACTSYN_RXN_p</th>\n",
       "      <th>[B]_ACETOOHBUTSYN_RXN_p</th>\n",
       "      <th>[B]_CARBOXYCYCLOHEXADIENYL_DEHYDRATASE_RXN_p</th>\n",
       "      <th>[B]_DIAMINOPIMDECARB_RXN_p</th>\n",
       "      <th>[B]_GCVMULTI_RXN_m</th>\n",
       "      <th>[B]_IGPSYN_RXN_p</th>\n",
       "      <th>[B]_ISOCITDEH_RXN_c</th>\n",
       "      <th>[B]_ISOCITDEH_RXN_m</th>\n",
       "      <th>[B]_ISOCITRATE_DEHYDROGENASE_NAD_RXN_m</th>\n",
       "      <th>[B]_MALIC_NADP_RXN_p</th>\n",
       "      <th>[B]_OROTPDECARB_RXN_p</th>\n",
       "      <th>[B]_PREPHENATE_DEHYDROGENASE_NADP_RXN_p</th>\n",
       "      <th>[B]_PYRUVDEH_RXN_m</th>\n",
       "      <th>[B]_RIBULOSE_BISPHOSPHATE_CARBOXYLASE_RXN_p</th>\n",
       "      <th>[B]_RXN0_5224_p</th>\n",
       "      <th>[B]_RXN_7800_p</th>\n",
       "    </tr>\n",
       "    <tr>\n",
       "      <th>Status</th>\n",
       "      <th></th>\n",
       "      <th></th>\n",
       "      <th></th>\n",
       "      <th></th>\n",
       "      <th></th>\n",
       "      <th></th>\n",
       "      <th></th>\n",
       "      <th></th>\n",
       "      <th></th>\n",
       "      <th></th>\n",
       "      <th></th>\n",
       "      <th></th>\n",
       "      <th></th>\n",
       "      <th></th>\n",
       "      <th></th>\n",
       "      <th></th>\n",
       "    </tr>\n",
       "  </thead>\n",
       "  <tbody>\n",
       "    <tr>\n",
       "      <th>Consumer</th>\n",
       "      <td>NaN</td>\n",
       "      <td>NaN</td>\n",
       "      <td>NaN</td>\n",
       "      <td>NaN</td>\n",
       "      <td>NaN</td>\n",
       "      <td>NaN</td>\n",
       "      <td>NaN</td>\n",
       "      <td>NaN</td>\n",
       "      <td>NaN</td>\n",
       "      <td>NaN</td>\n",
       "      <td>NaN</td>\n",
       "      <td>NaN</td>\n",
       "      <td>NaN</td>\n",
       "      <td>2.887073</td>\n",
       "      <td>0.000472</td>\n",
       "      <td>NaN</td>\n",
       "    </tr>\n",
       "    <tr>\n",
       "      <th>Producer</th>\n",
       "      <td>0.024378</td>\n",
       "      <td>0.006424</td>\n",
       "      <td>0.004392</td>\n",
       "      <td>0.006534</td>\n",
       "      <td>0.053872</td>\n",
       "      <td>0.001098</td>\n",
       "      <td>0.004832</td>\n",
       "      <td>0.000269</td>\n",
       "      <td>0.02323</td>\n",
       "      <td>2.715096</td>\n",
       "      <td>0.000752</td>\n",
       "      <td>0.002635</td>\n",
       "      <td>0.030801</td>\n",
       "      <td>NaN</td>\n",
       "      <td>NaN</td>\n",
       "      <td>0.013232</td>\n",
       "    </tr>\n",
       "  </tbody>\n",
       "</table>\n",
       "</div>"
      ],
      "text/plain": [
       "label     [B]_ACETOLACTSYN_RXN_p  [B]_ACETOOHBUTSYN_RXN_p  \\\n",
       "Status                                                      \n",
       "Consumer                     NaN                      NaN   \n",
       "Producer                0.024378                 0.006424   \n",
       "\n",
       "label     [B]_CARBOXYCYCLOHEXADIENYL_DEHYDRATASE_RXN_p  \\\n",
       "Status                                                   \n",
       "Consumer                                           NaN   \n",
       "Producer                                      0.004392   \n",
       "\n",
       "label     [B]_DIAMINOPIMDECARB_RXN_p  [B]_GCVMULTI_RXN_m  [B]_IGPSYN_RXN_p  \\\n",
       "Status                                                                       \n",
       "Consumer                         NaN                 NaN               NaN   \n",
       "Producer                    0.006534            0.053872          0.001098   \n",
       "\n",
       "label     [B]_ISOCITDEH_RXN_c  [B]_ISOCITDEH_RXN_m  \\\n",
       "Status                                               \n",
       "Consumer                  NaN                  NaN   \n",
       "Producer             0.004832             0.000269   \n",
       "\n",
       "label     [B]_ISOCITRATE_DEHYDROGENASE_NAD_RXN_m  [B]_MALIC_NADP_RXN_p  \\\n",
       "Status                                                                   \n",
       "Consumer                                     NaN                   NaN   \n",
       "Producer                                 0.02323              2.715096   \n",
       "\n",
       "label     [B]_OROTPDECARB_RXN_p  [B]_PREPHENATE_DEHYDROGENASE_NADP_RXN_p  \\\n",
       "Status                                                                     \n",
       "Consumer                    NaN                                      NaN   \n",
       "Producer               0.000752                                 0.002635   \n",
       "\n",
       "label     [B]_PYRUVDEH_RXN_m  [B]_RIBULOSE_BISPHOSPHATE_CARBOXYLASE_RXN_p  \\\n",
       "Status                                                                      \n",
       "Consumer                 NaN                                     2.887073   \n",
       "Producer            0.030801                                          NaN   \n",
       "\n",
       "label     [B]_RXN0_5224_p  [B]_RXN_7800_p  \n",
       "Status                                     \n",
       "Consumer         0.000472             NaN  \n",
       "Producer              NaN        0.013232  "
      ]
     },
     "execution_count": 12,
     "metadata": {},
     "output_type": "execute_result"
    },
    {
     "data": {
      "image/png": "[encoded data removed]",
      "text/plain": [
       "<Figure size 432x288 with 1 Axes>"
      ]
     },
     "metadata": {
      "needs_background": "light"
     },
     "output_type": "display_data"
    }
   ],
   "source": [
    "\"\"\"\n",
    "Plot the pivot table and barplot\n",
    "\"\"\"\n",
    "\n",
    "\n",
    "chart = all_reactions.pivot_table(index=\"Status\", columns=\"label\", values=\"fluxes\")\n",
    "chart.plot.bar(rot = 0, stacked = True, legend = True, ylabel = \"Flux\", color = color_dict)\n",
    "plt.legend(loc='best', bbox_to_anchor=(1.0, 0.5, 0.5, 0.5), ncol = 2)\n",
    "plt.title(\"CO2 activity in the BS cell\" )\n",
    "figsize = [11, 14] #To prevent the cropping of the image\n",
    "#plt.savefig('Budget_tests.svg', format='svg', bbox_inches = 'tight', dpi=600) #Line to save the image\n",
    "chart\n",
    "\n",
    "\n"
   ]
  },
  {
   "cell_type": "markdown",
   "metadata": {},
   "source": [
    "In the budget plot we can observe that the majority of CO2 in the bundle sheath cell is produced by the \"MALIC_NADP_RXN_p\" reaction, which is the NADP - malic enzyme reaction. This is the main decarboxylation pathway in C4 photosynthesis in maize, and we privelieged it other decarboxylation pathways in our approach. \n",
    "\n",
    "Consumption of CO2, as expected, occurs through the carboxylase activity of Rubisco, represented throught the \"RIBULOSE_BIPHOSPHATE_CARBOXYLASE_RXN_p\""
   ]
  }
 ],
 "metadata": {
  "kernelspec": {
   "display_name": "Python 3",
   "language": "python",
   "name": "python3"
  },
  "language_info": {
   "codemirror_mode": {
    "name": "ipython",
    "version": 3
   },
   "file_extension": ".py",
   "mimetype": "text/x-python",
   "name": "python",
   "nbconvert_exporter": "python",
   "pygments_lexer": "ipython3",
   "version": "3.7.9"
  }
 },
 "nbformat": 4,
 "nbformat_minor": 1
}
